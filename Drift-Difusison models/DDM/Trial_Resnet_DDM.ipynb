{
 "cells": [
  {
   "cell_type": "code",
   "execution_count": 1,
   "metadata": {},
   "outputs": [
    {
     "name": "stdout",
     "output_type": "stream",
     "text": [
      "2.7.0\n"
     ]
    }
   ],
   "source": [
    "import tensorflow as tf\n",
    "from tensorflow import keras\n",
    "from tensorflow.keras.layers import *\n",
    "from tensorflow.keras.models import *\n",
    "from tensorflow.keras import backend as K\n",
    "import pandas as pd\n",
    "\n",
    "import numpy as np\n",
    "import matplotlib.pyplot as plt\n",
    "import glob\n",
    "\n",
    "from scipy.stats import pearsonr\n",
    "print(tf.__version__)\n",
    "np.random.seed(422)\n",
    "\n",
    "from sklearn.model_selection import train_test_split\n",
    "from scipy import stats\n",
    "from subprocess import run, check_output\n",
    "import os\n",
    "import random\n",
    "import matplotlib.pyplot as plt\n",
    "import time\n",
    "import seaborn as sns"
   ]
  },
  {
   "cell_type": "code",
   "execution_count": 2,
   "metadata": {},
   "outputs": [],
   "source": [
    "def custom_activation(x):\n",
    "    return (K.sigmoid(0.5*x) + 1)"
   ]
  },
  {
   "cell_type": "code",
   "execution_count": 3,
   "metadata": {},
   "outputs": [],
   "source": [
    "def heteroscedastic_loss(true, pred):\n",
    "    \"\"\" Heteroskedastic loss function.\"\"\"\n",
    "    params = pred.shape[1]//2\n",
    "    point = pred[:, :params]\n",
    "    var = pred[:, params:]\n",
    "    precision = 1 / var\n",
    "    return keras.backend.sum(precision * (true - point) ** 2. + keras.backend.log(var), -1)"
   ]
  },
  {
   "cell_type": "code",
   "execution_count": 11,
   "metadata": {},
   "outputs": [],
   "source": [
    "def create_model(n_params, channels, filters, batchnorm = False, training = True):\n",
    "    inp = keras.Input(shape=(None, channels))\n",
    "    x = inp\n",
    "    skipFunc = inp\n",
    "    x = tf.keras.layers.Conv1D(filters[0], kernel_size=1, strides=1, activation='relu')(x)\n",
    "    \n",
    "\n",
    "    conv1 = tf.keras.layers.Conv1D(filters[1] , kernel_size=1)(x)\n",
    "    bn1 = tf.keras.layers.BatchNormalization( epsilon=bnEps, momentum = bnMom )(conv1)\n",
    "    act1 =tf.keras.layers.Activation(\"relu\")(bn1)\n",
    "    conv2 = tf.keras.layers.Conv1D(filters[2], kernel_size = 3, strides = 1 , use_bias=False,padding = \"same\")(act1)\n",
    "    bn2 = tf.keras.layers.BatchNormalization(axis=2, epsilon=bnEps,momentum=bnMom)(conv2)\n",
    "    \n",
    "    skipFunc = tf.keras.layers.Conv1D(filters[1], kernel_size=1)(x)\n",
    "    skipFunc = tf.keras.layers.BatchNormalization(axis=2, epsilon=bnEps,momentum=bnMom)(skipFunc)\n",
    "    \n",
    "\n",
    "    x = tf.keras.layers.add([bn2, skipFunc])\n",
    "    x = tf.keras.layers.Activation(\"relu\")(x)   \n",
    "    skipFunc2 = x\n",
    "    \n",
    "\n",
    "    conv3 = tf.keras.layers.Conv1D(filters[1] , kernel_size=1)(x)\n",
    "    bn3 = tf.keras.layers.BatchNormalization( epsilon=bnEps, momentum = bnMom )(conv3)\n",
    "    act3 =tf.keras.layers.Activation(\"relu\")(bn3)\n",
    "    conv4 = tf.keras.layers.Conv1D(filters[2], kernel_size = 3, strides = 1 , use_bias=False,padding = \"same\")(act3)\n",
    "    bn4 = tf.keras.layers.BatchNormalization(axis=2, epsilon=bnEps,momentum=bnMom)(conv4)\n",
    "\n",
    "    skipFunc2 = tf.keras.layers.Conv1D(filters[1], kernel_size=1)(x)\n",
    "    skipFunc2 = tf.keras.layers.BatchNormalization(axis=2, epsilon=bnEps,momentum=bnMom)(skipFunc2)\n",
    "    \n",
    "    x = tf.keras.layers.add([bn4, skipFunc2])\n",
    "    x = tf.keras.layers.Activation(\"relu\")(x)\n",
    "    \n",
    "    x = keras.layers.GlobalAveragePooling1D()(x)\n",
    "    mean = keras.layers.Dense(n_params)(x)\n",
    "    var = keras.layers.Dense(n_params, activation='softplus')(x)\n",
    "    out = keras.layers.Concatenate()([mean, var])\n",
    "    model = keras.Model(inp, out)\n",
    "    return model"
   ]
  },
  {
   "cell_type": "code",
   "execution_count": 5,
   "metadata": {},
   "outputs": [],
   "source": [
    "def plot_analytic_vs_est(true, pred, names ,log=True, plot_abline=True,show=True,filename='figure.png',path=None):\n",
    "    \"\"\"Create a 3x2 plot as in paper.\"\"\"\n",
    "    \n",
    "    def abline(slope, intercept, ax):\n",
    "        x = np.array(ax.get_xlim())\n",
    "        y = intercept + slope * x\n",
    "        return x, y \n",
    "    \n",
    "    font = {'fontname':'Arial', 'fontsize': 16}\n",
    "    textfont = {'fontname':'Arial', 'fontsize': 11}\n",
    "    axisfont = {'fontname':'Arial', 'fontsize': 12}\n",
    "    \n",
    "\n",
    "    f, axarr = plt.subplots(2, 2, figsize=(10, 12))\n",
    "    \n",
    "    \n",
    "    for i, ax in enumerate(axarr.flat):\n",
    "        \n",
    "       \n",
    "        if i == (pred.shape[1]//2):\n",
    "            print(i)\n",
    "            break\n",
    "\n",
    "        ax.plot(true[:,i], pred[:,i],marker='o', linewidth=0,alpha=0.1,color='red')\n",
    "\n",
    "        cor = np.round(np.corrcoef(true[:,i],pred[:,i])[0,1],2)\n",
    "        r_squared = np.round(1 -(np.var(true[:,i] - pred[:,i])/np.var(true[:,i])),2)\n",
    "       \n",
    "        ax.text(0.2,0.9,'r: ' + str(cor),ha='center', va='center', transform=ax.transAxes,**textfont)\n",
    "        ax.text(0.2,0.8,'R2: ' + str(r_squared),ha='center', va='center', transform=ax.transAxes,**textfont)\n",
    "        \n",
    "        if plot_abline:\n",
    "            ax.plot(*abline(1, 0, ax),color='black')\n",
    "        else:\n",
    "            ax.plot(*best_line_fit(true[:,i], pred[:,i]))\n",
    "        if i == 0:\n",
    "            ax.set_xlabel('True',**axisfont)\n",
    "            ax.set_ylabel('Estimated',**axisfont)\n",
    "            \n",
    "        ax.set_title(names[i],**font)\n",
    "        \n",
    "        ax.yaxis.set_ticks_position('left')\n",
    "        ax.xaxis.set_ticks_position('bottom')\n",
    "        \n",
    "    plt.savefig(filename) \n",
    "    if show:\n",
    "        plt.show()\n",
    "        \n",
    "    return None"
   ]
  },
  {
   "cell_type": "markdown",
   "metadata": {},
   "source": [
    "## Defining the structure of the network"
   ]
  },
  {
   "cell_type": "code",
   "execution_count": 6,
   "metadata": {},
   "outputs": [],
   "source": [
    "paramnames = ['a', 'v', 'zr','t0']\n",
    "\n",
    "# how deep should the model be:\n",
    "filters = [64,128,128,512]\n",
    "\n",
    "# number of channels:\n",
    "nchannels = 1\n",
    "\n",
    "# optimizer:\n",
    "optimizer = 'adam'\n",
    "\n",
    "\n",
    "#\n",
    "bnEps = 2e-5\n",
    "bnMom = 0.9\n",
    "reg = 0.0001\n",
    "\n",
    "# Batch size:\n",
    "batchsize = 64\n",
    "\n",
    "checkpoint_path = \"trained_ResNet_model_clean.hdf5\""
   ]
  },
  {
   "cell_type": "code",
   "execution_count": 7,
   "metadata": {},
   "outputs": [
    {
     "name": "stdout",
     "output_type": "stream",
     "text": [
      "Model: \"model\"\n",
      "__________________________________________________________________________________________________\n",
      " Layer (type)                   Output Shape         Param #     Connected to                     \n",
      "==================================================================================================\n",
      " input_1 (InputLayer)           [(None, None, 1)]    0           []                               \n",
      "                                                                                                  \n",
      " conv1d (Conv1D)                (None, None, 64)     128         ['input_1[0][0]']                \n",
      "                                                                                                  \n",
      " conv1d_1 (Conv1D)              (None, None, 128)    8320        ['conv1d[0][0]']                 \n",
      "                                                                                                  \n",
      " batch_normalization (BatchNorm  (None, None, 128)   512         ['conv1d_1[0][0]']               \n",
      " alization)                                                                                       \n",
      "                                                                                                  \n",
      " activation (Activation)        (None, None, 128)    0           ['batch_normalization[0][0]']    \n",
      "                                                                                                  \n",
      " conv1d_2 (Conv1D)              (None, None, 128)    49152       ['activation[0][0]']             \n",
      "                                                                                                  \n",
      " conv1d_3 (Conv1D)              (None, None, 128)    8320        ['conv1d[0][0]']                 \n",
      "                                                                                                  \n",
      " batch_normalization_1 (BatchNo  (None, None, 128)   512         ['conv1d_2[0][0]']               \n",
      " rmalization)                                                                                     \n",
      "                                                                                                  \n",
      " batch_normalization_2 (BatchNo  (None, None, 128)   512         ['conv1d_3[0][0]']               \n",
      " rmalization)                                                                                     \n",
      "                                                                                                  \n",
      " add (Add)                      (None, None, 128)    0           ['batch_normalization_1[0][0]',  \n",
      "                                                                  'batch_normalization_2[0][0]']  \n",
      "                                                                                                  \n",
      " activation_1 (Activation)      (None, None, 128)    0           ['add[0][0]']                    \n",
      "                                                                                                  \n",
      " conv1d_4 (Conv1D)              (None, None, 128)    16512       ['activation_1[0][0]']           \n",
      "                                                                                                  \n",
      " batch_normalization_3 (BatchNo  (None, None, 128)   512         ['conv1d_4[0][0]']               \n",
      " rmalization)                                                                                     \n",
      "                                                                                                  \n",
      " activation_2 (Activation)      (None, None, 128)    0           ['batch_normalization_3[0][0]']  \n",
      "                                                                                                  \n",
      " conv1d_5 (Conv1D)              (None, None, 128)    49152       ['activation_2[0][0]']           \n",
      "                                                                                                  \n",
      " conv1d_6 (Conv1D)              (None, None, 128)    16512       ['activation_1[0][0]']           \n",
      "                                                                                                  \n",
      " batch_normalization_4 (BatchNo  (None, None, 128)   512         ['conv1d_5[0][0]']               \n",
      " rmalization)                                                                                     \n",
      "                                                                                                  \n",
      " batch_normalization_5 (BatchNo  (None, None, 128)   512         ['conv1d_6[0][0]']               \n",
      " rmalization)                                                                                     \n",
      "                                                                                                  \n",
      " add_1 (Add)                    (None, None, 128)    0           ['batch_normalization_4[0][0]',  \n",
      "                                                                  'batch_normalization_5[0][0]']  \n",
      "                                                                                                  \n",
      " activation_3 (Activation)      (None, None, 128)    0           ['add_1[0][0]']                  \n",
      "                                                                                                  \n",
      " global_average_pooling1d (Glob  (None, 128)         0           ['activation_3[0][0]']           \n",
      " alAveragePooling1D)                                                                              \n",
      "                                                                                                  \n",
      " dense (Dense)                  (None, 4)            516         ['global_average_pooling1d[0][0]'\n",
      "                                                                 ]                                \n",
      "                                                                                                  \n",
      " dense_1 (Dense)                (None, 4)            516         ['global_average_pooling1d[0][0]'\n",
      "                                                                 ]                                \n",
      "                                                                                                  \n",
      " concatenate (Concatenate)      (None, 8)            0           ['dense[0][0]',                  \n",
      "                                                                  'dense_1[0][0]']                \n",
      "                                                                                                  \n",
      "==================================================================================================\n",
      "Total params: 152,200\n",
      "Trainable params: 150,664\n",
      "Non-trainable params: 1,536\n",
      "__________________________________________________________________________________________________\n"
     ]
    }
   ],
   "source": [
    "keras.backend.clear_session()\n",
    "Resnet = create_model(n_params=len(paramnames),channels=nchannels,filters=filters)\n",
    "\n",
    "Resnet.compile(optimizer=optimizer, loss=heteroscedastic_loss)\n",
    "earlystopper = keras.callbacks.EarlyStopping(monitor='val_loss', patience=2, verbose=1)\n",
    "checkpointer = keras.callbacks.ModelCheckpoint(checkpoint_path,save_best_only=True,verbose=1)\n",
    "Resnet.summary()"
   ]
  },
  {
   "cell_type": "markdown",
   "metadata": {},
   "source": [
    "## Loading training data"
   ]
  },
  {
   "cell_type": "code",
   "execution_count": 8,
   "metadata": {},
   "outputs": [],
   "source": [
    "n_file = 140\n",
    "X_train = np.empty((n_file*200, 240))\n",
    "y_train = np.empty((n_file*200, 5))\n",
    "\n",
    "for i in range(n_file):\n",
    "    x_temp = np.load('Data_Generation/DataSet/X_train' + str(i) + '.npy')\n",
    "    X_train[i*200:(i+1)*200, :] = x_temp\n",
    "    \n",
    "\n",
    "for i in range(n_file):\n",
    "    y_temp = np.load('Data_Generation/DataSet/y_train' + str(i) + '.npy')\n",
    "    y_train[i*200:(i+1)*200, :] = y_temp\n",
    "    \n",
    "y_train = y_train[:, [0, 1, 2, 3]]"
   ]
  },
  {
   "cell_type": "markdown",
   "metadata": {},
   "source": [
    "## Training the network"
   ]
  },
  {
   "cell_type": "code",
   "execution_count": 9,
   "metadata": {
    "scrolled": false
   },
   "outputs": [
    {
     "name": "stdout",
     "output_type": "stream",
     "text": [
      "Epoch 1/20\n",
      "433/434 [============================>.] - ETA: 0s - loss: -1.6655\n",
      "Epoch 00001: val_loss improved from inf to -2.85806, saving model to trained_ResNet_model_clean.hdf5\n",
      "434/434 [==============================] - 86s 196ms/step - loss: -1.6639 - val_loss: -2.8581\n",
      "Epoch 2/20\n",
      "  1/434 [..............................] - ETA: 1:15 - loss: -0.7911"
     ]
    },
    {
     "name": "stderr",
     "output_type": "stream",
     "text": [
      "D:\\Program Files\\Anaconda\\lib\\site-packages\\keras\\engine\\functional.py:1410: CustomMaskWarning: Custom mask layers require a config and must override get_config. When loading, the custom mask layer must be passed to the custom_objects argument.\n",
      "  layer_config = serialize_layer_fn(layer)\n"
     ]
    },
    {
     "name": "stdout",
     "output_type": "stream",
     "text": [
      "433/434 [============================>.] - ETA: 0s - loss: -3.4915\n",
      "Epoch 00002: val_loss improved from -2.85806 to -3.95477, saving model to trained_ResNet_model_clean.hdf5\n",
      "434/434 [==============================] - 84s 194ms/step - loss: -3.4913 - val_loss: -3.9548\n",
      "Epoch 3/20\n",
      "433/434 [============================>.] - ETA: 0s - loss: -3.9513\n",
      "Epoch 00003: val_loss did not improve from -3.95477\n",
      "434/434 [==============================] - 86s 198ms/step - loss: -3.9514 - val_loss: -2.6759\n",
      "Epoch 4/20\n",
      "433/434 [============================>.] - ETA: 0s - loss: -4.3470\n",
      "Epoch 00004: val_loss improved from -3.95477 to -4.82599, saving model to trained_ResNet_model_clean.hdf5\n",
      "434/434 [==============================] - 86s 198ms/step - loss: -4.3471 - val_loss: -4.8260\n",
      "Epoch 5/20\n",
      "433/434 [============================>.] - ETA: 0s - loss: -4.6816\n",
      "Epoch 00005: val_loss improved from -4.82599 to -4.90679, saving model to trained_ResNet_model_clean.hdf5\n",
      "434/434 [==============================] - 84s 193ms/step - loss: -4.6814 - val_loss: -4.9068\n",
      "Epoch 6/20\n",
      "433/434 [============================>.] - ETA: 0s - loss: -4.8520\n",
      "Epoch 00006: val_loss improved from -4.90679 to -4.92680, saving model to trained_ResNet_model_clean.hdf5\n",
      "434/434 [==============================] - 86s 199ms/step - loss: -4.8516 - val_loss: -4.9268\n",
      "Epoch 7/20\n",
      "433/434 [============================>.] - ETA: 0s - loss: -5.1762\n",
      "Epoch 00007: val_loss improved from -4.92680 to -5.66632, saving model to trained_ResNet_model_clean.hdf5\n",
      "434/434 [==============================] - 87s 201ms/step - loss: -5.1750 - val_loss: -5.6663\n",
      "Epoch 8/20\n",
      "433/434 [============================>.] - ETA: 0s - loss: -5.5877\n",
      "Epoch 00008: val_loss improved from -5.66632 to -5.93242, saving model to trained_ResNet_model_clean.hdf5\n",
      "434/434 [==============================] - 87s 201ms/step - loss: -5.5869 - val_loss: -5.9324\n",
      "Epoch 9/20\n",
      "433/434 [============================>.] - ETA: 0s - loss: -5.7104\n",
      "Epoch 00009: val_loss did not improve from -5.93242\n",
      "434/434 [==============================] - 84s 195ms/step - loss: -5.7081 - val_loss: 321.9263\n",
      "Epoch 10/20\n",
      "433/434 [============================>.] - ETA: 0s - loss: -5.1076\n",
      "Epoch 00010: val_loss improved from -5.93242 to -6.04629, saving model to trained_ResNet_model_clean.hdf5\n",
      "434/434 [==============================] - 84s 194ms/step - loss: -5.1052 - val_loss: -6.0463\n",
      "Epoch 11/20\n",
      "433/434 [============================>.] - ETA: 0s - loss: -5.9345\n",
      "Epoch 00011: val_loss improved from -6.04629 to -6.87545, saving model to trained_ResNet_model_clean.hdf5\n",
      "434/434 [==============================] - 86s 199ms/step - loss: -5.9340 - val_loss: -6.8754\n",
      "Epoch 12/20\n",
      "433/434 [============================>.] - ETA: 0s - loss: -6.2130\n",
      "Epoch 00012: val_loss did not improve from -6.87545\n",
      "434/434 [==============================] - 84s 194ms/step - loss: -6.2127 - val_loss: -6.4630\n",
      "Epoch 13/20\n",
      "433/434 [============================>.] - ETA: 0s - loss: -6.3398\n",
      "Epoch 00013: val_loss improved from -6.87545 to -7.04143, saving model to trained_ResNet_model_clean.hdf5\n",
      "434/434 [==============================] - 83s 191ms/step - loss: -6.3390 - val_loss: -7.0414\n",
      "Epoch 14/20\n",
      "433/434 [============================>.] - ETA: 0s - loss: -6.4345\n",
      "Epoch 00014: val_loss did not improve from -7.04143\n",
      "434/434 [==============================] - 84s 193ms/step - loss: -6.4317 - val_loss: -6.9702\n",
      "Epoch 15/20\n",
      "433/434 [============================>.] - ETA: 0s - loss: -6.7368\n",
      "Epoch 00015: val_loss did not improve from -7.04143\n",
      "434/434 [==============================] - 83s 191ms/step - loss: -6.7361 - val_loss: -6.5445\n",
      "Epoch 16/20\n",
      "433/434 [============================>.] - ETA: 0s - loss: -6.7786\n",
      "Epoch 00016: val_loss improved from -7.04143 to -8.02781, saving model to trained_ResNet_model_clean.hdf5\n",
      "434/434 [==============================] - 83s 192ms/step - loss: -6.7780 - val_loss: -8.0278\n",
      "Epoch 17/20\n",
      "433/434 [============================>.] - ETA: 0s - loss: -6.9742\n",
      "Epoch 00017: val_loss did not improve from -8.02781\n",
      "434/434 [==============================] - 89s 204ms/step - loss: -6.9747 - val_loss: -7.1052\n",
      "Epoch 18/20\n",
      "434/434 [==============================] - ETA: 0s - loss: -7.0897\n",
      "Epoch 00018: val_loss did not improve from -8.02781\n",
      "434/434 [==============================] - 109s 251ms/step - loss: -7.0897 - val_loss: -7.9449\n",
      "Epoch 19/20\n",
      "434/434 [==============================] - ETA: 0s - loss: -7.1847\n",
      "Epoch 00019: val_loss improved from -8.02781 to -8.13226, saving model to trained_ResNet_model_clean.hdf5\n",
      "434/434 [==============================] - 149s 344ms/step - loss: -7.1847 - val_loss: -8.1323\n",
      "Epoch 20/20\n",
      "434/434 [==============================] - ETA: 0s - loss: -7.1854\n",
      "Epoch 00020: val_loss improved from -8.13226 to -8.49404, saving model to trained_ResNet_model_clean.hdf5\n",
      "434/434 [==============================] - 144s 332ms/step - loss: -7.1854 - val_loss: -8.4940\n"
     ]
    }
   ],
   "source": [
    "history = Resnet.fit(X_train, \n",
    "                    y_train, \n",
    "                    batch_size=batchsize,\n",
    "                    epochs=20, \n",
    "                    validation_split=0.01,\n",
    "                    callbacks=[checkpointer])\n"
   ]
  },
  {
   "cell_type": "code",
   "execution_count": 10,
   "metadata": {},
   "outputs": [
    {
     "data": {
      "image/png": "[encoded data removed]",
      "text/plain": [
       "<Figure size 720x864 with 4 Axes>"
      ]
     },
     "metadata": {
      "needs_background": "light"
     },
     "output_type": "display_data"
    }
   ],
   "source": [
    "y_test = np.load('Data_Generation/DataSet/y_train188.npy')\n",
    "y_test = y_test[:, [0, 1, 2, 3]]\n",
    "X_test = np.load('Data_Generation/DataSet/X_train188.npy')\n",
    "\n",
    "pred = Resnet.predict(X_test)\n",
    "\n",
    "plot_analytic_vs_est(y_test,\n",
    "                     pred,\n",
    "                     log=False,\n",
    "                     names=paramnames,\n",
    "                     show=True,\n",
    "                     filename='result/Resnet_X_train_DDM.png')"
   ]
  },
  {
   "cell_type": "markdown",
   "metadata": {},
   "source": [
    "## Fitting the Levy Flights model on data"
   ]
  },
  {
   "cell_type": "code",
   "execution_count": null,
   "metadata": {},
   "outputs": [],
   "source": [
    "Data_dirs = [\"../_GroupsData/_Trial/_Optim/\",\n",
    "             \"../_GroupsData/_Trial/_Norm/\",\n",
    "             \"../_GroupsData/_Trial/_Info/\"]\n",
    "\n",
    "trial_sbj_prms = []\n",
    "trial_ACC_list = []\n",
    "for i in range(3):\n",
    "    files = os.listdir(Data_dirs[i])\n",
    "    for j in range(len(files)):\n",
    "        if files[j].endswith(\".txt\"):\n",
    "            with open(Data_dirs[i] + files[j], 'r') as f:\n",
    "                 \n",
    "                S = np.empty((1, 240, 4))\n",
    "                ACC = []\n",
    "                \n",
    "                f.readline()\n",
    "                f.readline()\n",
    "                line = f.readline()\n",
    "                cor_count = 0\n",
    "                line_count = 1\n",
    "                for block in range(4):\n",
    "                    rtl = []\n",
    "                    rtu = []\n",
    "                    for l in range(240):\n",
    "                        s_line = line[:-1].split('\\t')\n",
    "                        trial = int(s_line[1])\n",
    "                        acc = int(s_line[7])\n",
    "                        RT = int(s_line[10])\n",
    "                        if RT>0.3:\n",
    "                            if acc == 1:\n",
    "                                rtu.append(RT/1000)\n",
    "                            else:\n",
    "                                rtl.append(-RT/1000)\n",
    "                        line_count += 1\n",
    "                        line = f.readline()\n",
    "                    S[0, :, block] = np.asarray(rtu+rtl)\n",
    "                    ACC.append(len(rtu)/240)\n",
    "                pred = deepInference.predict(S)\n",
    "                trial_sbj_prms.append(list(pred[0][0:11]) + ACC)\n",
    "                trial_ACC_list += ACC \n",
    "\n",
    "                "
   ]
  },
  {
   "cell_type": "markdown",
   "metadata": {},
   "source": [
    "# Plotting the fitting results"
   ]
  },
  {
   "cell_type": "markdown",
   "metadata": {},
   "source": [
    "### Low Information Condition"
   ]
  },
  {
   "cell_type": "code",
   "execution_count": null,
   "metadata": {},
   "outputs": [],
   "source": [
    "plt.figure(figsize=(10,10))\n",
    "plt.plot(trial_sbj_prms[10][0:4]);\n",
    "plt.plot(trial_sbj_prms[11][0:4]);\n",
    "plt.plot(trial_sbj_prms[12][0:4]);\n",
    "plt.plot(trial_sbj_prms[13][0:4]);\n",
    "plt.plot(trial_sbj_prms[14][0:4]);\n",
    "plt.plot(trial_sbj_prms[15][0:4]);\n",
    "plt.plot(trial_sbj_prms[16][0:4]);\n",
    "plt.plot(trial_sbj_prms[17][0:4]);\n",
    "plt.plot(trial_sbj_prms[18][0:4]);\n",
    "plt.plot(trial_sbj_prms[19][0:4]);\n",
    "plt.plot(['1', '2', '3', '4'], trial_sbj_prms[20][0:4]);\n",
    "plt.xlabel('blocks', fontsize=15);\n",
    "plt.ylabel('threshold value', fontsize=15);\n",
    "plt.title('Trends of threshold during the blocks in Low Information condition', fontsize=15);\n",
    "plt.savefig('_plot/_norm_trial_ind_thr.png');"
   ]
  },
  {
   "cell_type": "code",
   "execution_count": null,
   "metadata": {},
   "outputs": [],
   "source": [
    "plt.figure(figsize=(10,10))\n",
    "plt.plot(trial_sbj_prms[10][7:11]);\n",
    "plt.plot(trial_sbj_prms[11][7:11]);\n",
    "plt.plot(trial_sbj_prms[12][7:11]);\n",
    "plt.plot(trial_sbj_prms[13][7:11]);\n",
    "plt.plot(trial_sbj_prms[14][7:11]);\n",
    "plt.plot(trial_sbj_prms[15][7:11]);\n",
    "plt.plot(trial_sbj_prms[16][7:11]);\n",
    "plt.plot(trial_sbj_prms[17][7:11]);\n",
    "plt.plot(trial_sbj_prms[18][7:11]);\n",
    "plt.plot(trial_sbj_prms[19][7:11]);\n",
    "plt.plot(['1', '2', '3', '4'], trial_sbj_prms[20][7:11]);\n",
    "plt.xlabel('blocks', fontsize=15);\n",
    "plt.ylabel('alpha value', fontsize=15);\n",
    "plt.title('Trends of alpha during the blocks in Low Information condition', fontsize=15);\n",
    "plt.savefig('_plot/_norm_trial_ind_alpha.png');"
   ]
  },
  {
   "cell_type": "code",
   "execution_count": null,
   "metadata": {},
   "outputs": [],
   "source": [
    "ll = []\n",
    "for i in range(10,21):\n",
    "    ll.append(trial_sbj_prms[i][0:4])\n",
    "g1 = {'1': [ll[i][0] for i in range(len(ll))],\n",
    "      '2': [ll[i][1] for i in range(len(ll))],\n",
    "      '3': [ll[i][2] for i in range(len(ll))],\n",
    "      '4': [ll[i][3] for i in range(len(ll))]}\n",
    "df1 = pd.DataFrame(g1)\n",
    "plt.figure(figsize=(10,10))\n",
    "df1.boxplot(column=['1', '2', '3', '4'], grid=False);\n",
    "plt.xlabel('blocks', fontsize=15);\n",
    "plt.ylabel('threshold value', fontsize=15);\n",
    "plt.title('Trends of threshold during the blocks in Low Information condition', fontsize=15);\n",
    "plt.savefig('_plot/_norm_trial_group_thr.png');"
   ]
  },
  {
   "cell_type": "code",
   "execution_count": null,
   "metadata": {},
   "outputs": [],
   "source": [
    "ll = []\n",
    "for i in range(10, 21):\n",
    "    ll.append(trial_sbj_prms[i][7:11])\n",
    "g1 = {'1': [ll[i][0] for i in range(len(ll))],\n",
    "      '2': [ll[i][1] for i in range(len(ll))],\n",
    "      '3': [ll[i][2] for i in range(len(ll))],\n",
    "      '4': [ll[i][3] for i in range(len(ll))]}\n",
    "df1 = pd.DataFrame(g1)\n",
    "\n",
    "plt.figure(figsize=(10,10))\n",
    "df1.boxplot(column=['1', '2', '3', '4'], grid=False);\n",
    "plt.xlabel('blocks', fontsize=15);\n",
    "plt.ylabel('alpha value', fontsize=15);\n",
    "plt.title('Trends of alpha during the blocks in Low Information condition', fontsize=15);\n",
    "plt.savefig('_plot/_norm_trial_group_alpha.png');"
   ]
  },
  {
   "cell_type": "code",
   "execution_count": null,
   "metadata": {},
   "outputs": [],
   "source": [
    "alpha_list = []\n",
    "thr_list = []\n",
    "for i in range(10, 21):\n",
    "    alpha_list += list(trial_sbj_prms[i][7:11])\n",
    "    thr_list += list(trial_sbj_prms[i][0:4])\n",
    "\n",
    "plt.figure(figsize=(10,10))\n",
    "sns.regplot(alpha_list , thr_list);\n",
    "\n",
    "plt.xlabel('alpha', fontsize=15);\n",
    "plt.ylabel('threshold', fontsize=15);\n",
    "plt.title('Correlation of threshold and alpha in Low Information condition', fontsize=15);\n",
    "\n",
    "cor, p_value = pearsonr(alpha_list , thr_list)\n",
    "textstr = 'correlation = ' + str(cor)[0:5] + '\\np-value = '+str(p_value)[0:5]\n",
    "props = dict(boxstyle='round', facecolor='wheat', alpha=0.5)\n",
    "plt.text((plt.xlim()[1] - plt.xlim()[0])*0.04 + plt.xlim()[0],\n",
    "         (plt.ylim()[1] - plt.ylim()[0])*0.92 + plt.ylim()[0], textstr, fontsize=14, bbox=props)\n",
    "plt.savefig('_plot/_norm_trial_thr_alpha_cor.png');"
   ]
  },
  {
   "cell_type": "code",
   "execution_count": null,
   "metadata": {},
   "outputs": [],
   "source": [
    "alpha_list = []\n",
    "acc_list = []\n",
    "for i in range(10, 21):\n",
    "    alpha_list += list(trial_sbj_prms[i][7:11])\n",
    "    acc_list += list(trial_sbj_prms[i][11:15])\n",
    "\n",
    "plt.figure(figsize=(10,10))\n",
    "sns.regplot(alpha_list , acc_list);\n",
    "\n",
    "plt.xlabel('alpha', fontsize=15);\n",
    "plt.ylabel('ACC', fontsize=15);\n",
    "plt.title('Correlation of ACC and alpha in Low Information conditions', fontsize=15);\n",
    "\n",
    "cor, p_value = pearsonr(alpha_list , acc_list)\n",
    "textstr = 'correlation = ' + str(cor)[0:5] + '\\np-value = '+str(p_value)[0:5]\n",
    "props = dict(boxstyle='round', facecolor='wheat', alpha=0.5)\n",
    "plt.text((plt.xlim()[1] - plt.xlim()[0])*0.04 + plt.xlim()[0],\n",
    "         (plt.ylim()[1] - plt.ylim()[0])*0.92 + plt.ylim()[0], textstr, fontsize=14, bbox=props)\n",
    "\n",
    "plt.savefig('_plot/_norm_trial_acc_alpha_cor.png');\n",
    "print(\"correlation is : \", cor, 'and p-value is : ', p_value)"
   ]
  },
  {
   "cell_type": "markdown",
   "metadata": {},
   "source": [
    "### Medium Information Condition"
   ]
  },
  {
   "cell_type": "code",
   "execution_count": null,
   "metadata": {},
   "outputs": [],
   "source": [
    "plt.figure(figsize=(10,10))\n",
    "plt.plot(trial_sbj_prms[21][0:4]);\n",
    "plt.plot(trial_sbj_prms[22][0:4]);\n",
    "plt.plot(trial_sbj_prms[23][0:4]);\n",
    "plt.plot(trial_sbj_prms[24][0:4]);\n",
    "plt.plot(trial_sbj_prms[25][0:4]);\n",
    "plt.plot(trial_sbj_prms[26][0:4]);\n",
    "plt.plot(trial_sbj_prms[27][0:4]);\n",
    "plt.plot(trial_sbj_prms[28][0:4]);\n",
    "plt.plot(['1', '2', '3', '4'],trial_sbj_prms[29][0:4]);\n",
    "plt.xlabel('blocks', fontsize=15);\n",
    "plt.ylabel('threshold value', fontsize=15);\n",
    "plt.title('Trends of threshold during the blocks in Medium Information condition', fontsize=15);\n",
    "plt.savefig('_plot/_info_trial_ind_thr.png');"
   ]
  },
  {
   "cell_type": "code",
   "execution_count": null,
   "metadata": {},
   "outputs": [],
   "source": [
    "plt.figure(figsize=(10,10))\n",
    "plt.plot(trial_sbj_prms[21][7:11]);\n",
    "plt.plot(trial_sbj_prms[22][7:11]);\n",
    "plt.plot(trial_sbj_prms[23][7:11]);\n",
    "plt.plot(trial_sbj_prms[24][7:11]);\n",
    "plt.plot(trial_sbj_prms[25][7:11]);\n",
    "plt.plot(trial_sbj_prms[26][7:11]);\n",
    "plt.plot(trial_sbj_prms[27][7:11]);\n",
    "plt.plot(trial_sbj_prms[28][7:11]);\n",
    "plt.plot(['1', '2', '3', '4'], trial_sbj_prms[29][7:11]);\n",
    "plt.xlabel('blocks', fontsize=15);\n",
    "plt.ylabel('alpha value', fontsize=15);\n",
    "plt.title('Trends of alpha during the blocks in Medium Information condition', fontsize=15);\n",
    "plt.savefig('_plot/_info_trial_ind_alpha.png');"
   ]
  },
  {
   "cell_type": "code",
   "execution_count": null,
   "metadata": {},
   "outputs": [],
   "source": [
    "ll = []\n",
    "for i in range(21,30):\n",
    "    ll.append(trial_sbj_prms[i][0:4])\n",
    "g1 = {'1': [ll[i][0] for i in range(len(ll))],\n",
    "      '2': [ll[i][1] for i in range(len(ll))],\n",
    "      '3': [ll[i][2] for i in range(len(ll))],\n",
    "      '4': [ll[i][3] for i in range(len(ll))]}\n",
    "df1 = pd.DataFrame(g1)\n",
    "plt.figure(figsize=(10,10))\n",
    "df1.boxplot(column=['1', '2', '3', '4'], grid=False);\n",
    "plt.xlabel('blocks', fontsize=15);\n",
    "plt.ylabel('threshold value', fontsize=15);\n",
    "plt.title('Trends of threshold during the blocks in Medium Information condition', fontsize=15);\n",
    "plt.savefig('_plot/_info_trial_group_thr.png');"
   ]
  },
  {
   "cell_type": "code",
   "execution_count": null,
   "metadata": {},
   "outputs": [],
   "source": [
    "ll = []\n",
    "for i in range(21, 30):\n",
    "    ll.append(trial_sbj_prms[i][7:11])\n",
    "g1 = {'1': [ll[i][0] for i in range(len(ll))],\n",
    "      '2': [ll[i][1] for i in range(len(ll))],\n",
    "      '3': [ll[i][2] for i in range(len(ll))],\n",
    "      '4': [ll[i][3] for i in range(len(ll))]}\n",
    "df1 = pd.DataFrame(g1)\n",
    "plt.figure(figsize=(10,10))\n",
    "df1.boxplot(column=['1', '2', '3', '4'], grid=False);\n",
    "plt.xlabel('blocks', fontsize=15);\n",
    "plt.ylabel('alpha value', fontsize=15);\n",
    "plt.title('Trends of alpha during the blocks in Medium Information condition', fontsize=15);\n",
    "plt.savefig('_plot/_info_trial_group_alpha.png');"
   ]
  },
  {
   "cell_type": "code",
   "execution_count": null,
   "metadata": {},
   "outputs": [],
   "source": [
    "alpha_list = []\n",
    "thr_list = []\n",
    "for i in range(21, 30):\n",
    "    alpha_list += list(trial_sbj_prms[i][7:11])\n",
    "    thr_list += list(trial_sbj_prms[i][0:4])\n",
    "\n",
    "plt.figure(figsize=(10,10))\n",
    "sns.regplot(alpha_list , thr_list);\n",
    "\n",
    "plt.xlabel('alpha', fontsize=15);\n",
    "plt.ylabel('threshold', fontsize=15);\n",
    "plt.title('Correlation of threshold and alpha in Medium Information condition', fontsize=15);\n",
    "\n",
    "cor, p_value = pearsonr(alpha_list , thr_list)\n",
    "textstr = 'correlation = ' + str(cor)[0:5] + '\\np-value = '+str(p_value)[0:5]\n",
    "props = dict(boxstyle='round', facecolor='wheat', alpha=0.5)\n",
    "plt.text((plt.xlim()[1] - plt.xlim()[0])*0.74 + plt.xlim()[0],\n",
    "         (plt.ylim()[1] - plt.ylim()[0])*0.92 + plt.ylim()[0], textstr, fontsize=14, bbox=props)\n",
    "\n",
    "plt.savefig('_plot/_info_trial_thr_alpha_cor.png');\n",
    "print(\"correlation is : \", cor, 'and p-value is : ', p_value)"
   ]
  },
  {
   "cell_type": "code",
   "execution_count": null,
   "metadata": {},
   "outputs": [],
   "source": [
    "alpha_list = []\n",
    "acc_list = []\n",
    "for i in range(21, 30):\n",
    "    alpha_list += list(trial_sbj_prms[i][7:11])\n",
    "    acc_list += list(trial_sbj_prms[i][11:15])\n",
    "\n",
    "plt.figure(figsize=(10,10))\n",
    "sns.regplot(alpha_list , acc_list);\n",
    "\n",
    "plt.xlabel('alpha', fontsize=15);\n",
    "plt.ylabel('ACC', fontsize=15);\n",
    "plt.title('Correlation of ACC and alpha in Medium Information condition', fontsize=15);\n",
    "\n",
    "cor, p_value = pearsonr(alpha_list , acc_list)\n",
    "textstr = 'correlation = ' + str(cor)[0:5] + '\\np-value = '+str(p_value)[0:5]\n",
    "props = dict(boxstyle='round', facecolor='wheat', alpha=0.5)\n",
    "plt.text((plt.xlim()[1] - plt.xlim()[0])*0.04 + plt.xlim()[0],\n",
    "         (plt.ylim()[1] - plt.ylim()[0])*0.92 + plt.ylim()[0], textstr, fontsize=14, bbox=props);\n",
    "\n",
    "plt.savefig('_plot/_info_trial_acc_alpha_cor.png');\n",
    "print(\"correlation is : \", cor, 'and p-value is : ', p_value)"
   ]
  },
  {
   "cell_type": "markdown",
   "metadata": {},
   "source": [
    "### High Information Condition"
   ]
  },
  {
   "cell_type": "code",
   "execution_count": null,
   "metadata": {},
   "outputs": [],
   "source": [
    "plt.figure(figsize=(10,10))   \n",
    "plt.plot(trial_sbj_prms[0][0:4]);\n",
    "plt.plot(trial_sbj_prms[1][0:4]);\n",
    "plt.plot(trial_sbj_prms[2][0:4]);\n",
    "plt.plot(trial_sbj_prms[3][0:4]);\n",
    "plt.plot(trial_sbj_prms[4][0:4]);\n",
    "plt.plot(trial_sbj_prms[5][0:4]);\n",
    "plt.plot(trial_sbj_prms[6][0:4]);\n",
    "plt.plot(trial_sbj_prms[7][0:4]);\n",
    "plt.plot(trial_sbj_prms[8][0:4]);\n",
    "plt.plot(['1', '2', '3', '4'], trial_sbj_prms[9][0:4]);\n",
    "plt.xlabel('blocks', fontsize=15);\n",
    "plt.ylabel('threshold value', fontsize=15);\n",
    "plt.title('Trends of threshold during the blocks in High Information condition', fontsize=15);\n",
    "plt.savefig('_plot/_optim_trial_ind_thr.png');"
   ]
  },
  {
   "cell_type": "code",
   "execution_count": null,
   "metadata": {},
   "outputs": [],
   "source": [
    "plt.figure(figsize=(10,10))\n",
    "plt.plot(trial_sbj_prms[0][7:11]);\n",
    "plt.plot(trial_sbj_prms[1][7:11]);\n",
    "plt.plot(trial_sbj_prms[2][7:11]);\n",
    "plt.plot(trial_sbj_prms[3][7:11]);\n",
    "plt.plot(trial_sbj_prms[4][7:11]);\n",
    "plt.plot(trial_sbj_prms[5][7:11]);\n",
    "plt.plot(trial_sbj_prms[6][7:11]);\n",
    "plt.plot(trial_sbj_prms[7][7:11]);\n",
    "plt.plot(trial_sbj_prms[8][7:11]);\n",
    "plt.plot(['1', '2', '3', '4'], trial_sbj_prms[9][7:11]);\n",
    "plt.xlabel('blocks', fontsize=15);\n",
    "plt.ylabel('alpha value', fontsize=15);\n",
    "plt.title('Trends of alpha during the blocks in High Information condition', fontsize=15);\n",
    "plt.savefig('_plot/_optim_trial_ind_alpha.png');"
   ]
  },
  {
   "cell_type": "code",
   "execution_count": null,
   "metadata": {},
   "outputs": [],
   "source": [
    "ll = []\n",
    "for i in range(10):\n",
    "    ll.append(trial_sbj_prms[i][0:4])\n",
    "g1 = {'1': [ll[i][0] for i in range(len(ll))],\n",
    "      '2': [ll[i][1] for i in range(len(ll))],\n",
    "      '3': [ll[i][2] for i in range(len(ll))],\n",
    "      '4': [ll[i][3] for i in range(len(ll))]}\n",
    "df1 = pd.DataFrame(g1)\n",
    "\n",
    "plt.figure(figsize=(10,10))\n",
    "df1.boxplot(column=['1', '2', '3', '4'], grid=False);\n",
    "plt.xlabel('blocks', fontsize=15);\n",
    "plt.ylabel('threshold value', fontsize=15);\n",
    "plt.title('Trends of threshold during the blocks in High Information condition', fontsize=15);\n",
    "plt.savefig('_plot/_optim_trial_group_thr.png');"
   ]
  },
  {
   "cell_type": "code",
   "execution_count": null,
   "metadata": {},
   "outputs": [],
   "source": [
    "ll = []\n",
    "for i in range(10):\n",
    "    ll.append(trial_sbj_prms[i][7:11])\n",
    "g1 = {'1': [ll[i][0] for i in range(len(ll))],\n",
    "      '2': [ll[i][1] for i in range(len(ll))],\n",
    "      '3': [ll[i][2] for i in range(len(ll))],\n",
    "      '4': [ll[i][3] for i in range(len(ll))]}\n",
    "df1 = pd.DataFrame(g1)\n",
    "\n",
    "plt.figure(figsize=(10,10))\n",
    "df1.boxplot(column=['1', '2', '3', '4'], grid=False);\n",
    "plt.xlabel('blocks', fontsize=15);\n",
    "plt.ylabel('alpha value', fontsize=15);\n",
    "plt.title('Trends of alpha during the blocks in High Information condition', fontsize=15);\n",
    "plt.savefig('_plot/_optim_trial_group_alpha.png');"
   ]
  },
  {
   "cell_type": "code",
   "execution_count": null,
   "metadata": {},
   "outputs": [],
   "source": [
    "alpha_list = []\n",
    "thr_list = []\n",
    "for i in range(10):\n",
    "    alpha_list += list(trial_sbj_prms[i][7:11])\n",
    "    thr_list += list(trial_sbj_prms[i][0:4])\n",
    "\n",
    "plt.figure(figsize=(10,10))\n",
    "sns.regplot(alpha_list , thr_list);\n",
    "\n",
    "plt.xlabel('alpha', fontsize=15);\n",
    "plt.ylabel('threshold', fontsize=15);\n",
    "plt.title('Correlation of threshold and alpha in High Information condition', fontsize=15);\n",
    "\n",
    "cor, p_value = pearsonr(alpha_list , thr_list)\n",
    "textstr = 'correlation = ' + str(cor)[0:5] + '\\n p-value = '+str(p_value)[0:5]\n",
    "props = dict(boxstyle='round', facecolor='wheat', alpha=0.5)\n",
    "plt.text((plt.xlim()[1] - plt.xlim()[0])*0.04 + plt.xlim()[0],\n",
    "         (plt.ylim()[1] - plt.ylim()[0])*0.92 + plt.ylim()[0], textstr, fontsize=14, bbox=props)\n",
    "\n",
    "plt.savefig('_plot/_optim_trial_thr_alpha_cor.png');\n",
    "print(\"correlation is : \", cor, 'and p-value is : ', p_value)"
   ]
  },
  {
   "cell_type": "code",
   "execution_count": null,
   "metadata": {},
   "outputs": [],
   "source": [
    "alpha_list = []\n",
    "acc_list = []\n",
    "for i in range(10):\n",
    "    alpha_list += list(trial_sbj_prms[i][7:11])\n",
    "    acc_list += list(trial_sbj_prms[i][11:15])\n",
    "\n",
    "plt.figure(figsize=(10,10))\n",
    "sns.regplot(alpha_list , acc_list);\n",
    "\n",
    "plt.xlabel('alpha', fontsize=15);\n",
    "plt.ylabel('ACC', fontsize=15);\n",
    "plt.title('Correlation of ACC and alpha in High Information condition', fontsize=15);\n",
    "\n",
    "cor, p_value = pearsonr(alpha_list , acc_list)\n",
    "textstr = 'correlation = ' + str(cor)[0:5] + '\\np-value = '+str(p_value)[0:5]\n",
    "props = dict(boxstyle='round', facecolor='wheat', alpha=0.5)\n",
    "plt.text((plt.xlim()[1] - plt.xlim()[0])*0.04 + plt.xlim()[0],\n",
    "         (plt.ylim()[1] - plt.ylim()[0])*0.92 + plt.ylim()[0], textstr, fontsize=14, bbox=props)\n",
    "\n",
    "plt.savefig('_plot/_optim_trial_acc_alpha_cor.png');\n",
    "print(\"correlation is : \", cor, 'and p-value is : ', p_value)"
   ]
  },
  {
   "cell_type": "markdown",
   "metadata": {},
   "source": [
    "### Integrated Conditions"
   ]
  },
  {
   "cell_type": "code",
   "execution_count": null,
   "metadata": {},
   "outputs": [],
   "source": [
    "alpha_list = []\n",
    "thr_list = []\n",
    "for i in range(30):\n",
    "    alpha_list += list(trial_sbj_prms[i][7:11])\n",
    "    thr_list += list(trial_sbj_prms[i][0:4])\n",
    "\n",
    "plt.figure(figsize=(10,10))\n",
    "sns.regplot(alpha_list , thr_list);\n",
    "\n",
    "plt.xlabel('alpha', fontsize=15);\n",
    "plt.ylabel('threshold', fontsize=15);\n",
    "plt.title('Correlation of threshold and alpha in all conditions', fontsize=15);\n",
    "\n",
    "cor, p_value = pearsonr(alpha_list , thr_list)\n",
    "textstr = 'correlation = ' + str(cor)[0:5] + '\\np-value = '+str(p_value)[0:4] + 'e-06'\n",
    "props = dict(boxstyle='round', facecolor='wheat', alpha=0.5)\n",
    "plt.text((plt.xlim()[1] - plt.xlim()[0])*0.72 + plt.xlim()[0],\n",
    "         (plt.ylim()[1] - plt.ylim()[0])*0.92 + plt.ylim()[0], textstr, fontsize=14, bbox=props)\n",
    "\n",
    "plt.savefig('_plot/_trial_thr_alpha_cor.png');\n",
    "print(\"correlation is : \", cor, 'and p-value is : ', p_value)"
   ]
  },
  {
   "cell_type": "code",
   "execution_count": null,
   "metadata": {},
   "outputs": [],
   "source": [
    "alpha_list = []\n",
    "acc_list = []\n",
    "for i in range(30):\n",
    "    alpha_list += list(trial_sbj_prms[i][7:11])\n",
    "    acc_list += list(trial_sbj_prms[i][11:15])\n",
    "\n",
    "plt.figure(figsize=(10,10))\n",
    "sns.regplot(alpha_list , acc_list);\n",
    "\n",
    "plt.xlabel('alpha', fontsize=15);\n",
    "plt.ylabel('ACC', fontsize=15);\n",
    "plt.title('Correlation of ACC and alpha in all conditions', fontsize=15);\n",
    "\n",
    "cor, p_value = pearsonr(alpha_list , acc_list)\n",
    "textstr = 'correlation = ' + str(cor)[0:5] + '\\np-value = '+str(p_value)[0:5]\n",
    "props = dict(boxstyle='round', facecolor='wheat', alpha=0.5)\n",
    "plt.text((plt.xlim()[1] - plt.xlim()[0])*0.04 + plt.xlim()[0],\n",
    "         (plt.ylim()[1] - plt.ylim()[0])*0.92 + plt.ylim()[0], textstr, fontsize=14, bbox=props);\n",
    "\n",
    "plt.savefig('_plot/_trial_acc_alpha_cor.png');\n",
    "print(\"correlation is : \", cor, 'and p-value is : ', p_value)"
   ]
  },
  {
   "cell_type": "markdown",
   "metadata": {},
   "source": [
    "# Saving the obtained parameters"
   ]
  },
  {
   "cell_type": "code",
   "execution_count": null,
   "metadata": {},
   "outputs": [],
   "source": [
    "LFM_data_dic = {'subj_ind': [ i+1 for i in range(30)],\n",
    "            'a1':[trial_sbj_prms[i][0] for i in range(30)],\n",
    "            'a2':[trial_sbj_prms[i][1] for i in range(30)],\n",
    "            'a3':[trial_sbj_prms[i][2] for i in range(30)],\n",
    "            'a4':[trial_sbj_prms[i][3] for i in range(30)],\n",
    "            'v':[trial_sbj_prms[i][4] for i in range(30)],\n",
    "            'zr':[trial_sbj_prms[i][5] for i in range(30)],\n",
    "            't0':[trial_sbj_prms[i][6] for i in range(30)],\n",
    "            'alpha1':[trial_sbj_prms[i][7] for i in range(30)],\n",
    "            'alpha2':[trial_sbj_prms[i][8] for i in range(30)],\n",
    "            'alpha3':[trial_sbj_prms[i][9] for i in range(30)],\n",
    "            'alpha4':[trial_sbj_prms[i][10] for i in range(30)],\n",
    "            'ACC1':[trial_sbj_prms[i][11] for i in range(30)],\n",
    "            'ACC2':[trial_sbj_prms[i][12] for i in range(30)],\n",
    "            'ACC3':[trial_sbj_prms[i][13] for i in range(30)],\n",
    "            'ACC4':[trial_sbj_prms[i][14] for i in range(30)]}\n",
    "DF_LFM_data = pd.DataFrame(LFM_data_dic)\n",
    "DF_LFM_data.to_csv('LFM_prms.csv')"
   ]
  },
  {
   "cell_type": "code",
   "execution_count": null,
   "metadata": {},
   "outputs": [],
   "source": [
    "if Training:\n",
    "    deepInference.save_weights('weights')"
   ]
  },
  {
   "cell_type": "code",
   "execution_count": null,
   "metadata": {},
   "outputs": [],
   "source": []
  },
  {
   "cell_type": "code",
   "execution_count": null,
   "metadata": {},
   "outputs": [],
   "source": []
  },
  {
   "cell_type": "code",
   "execution_count": 1,
   "metadata": {},
   "outputs": [],
   "source": [
    "def outsize(W , K , P , S):\n",
    "    return ((W-K+2*P)/S)+1"
   ]
  },
  {
   "cell_type": "code",
   "execution_count": 12,
   "metadata": {},
   "outputs": [
    {
     "data": {
      "text/plain": [
       "64.0"
      ]
     },
     "execution_count": 12,
     "metadata": {},
     "output_type": "execute_result"
    }
   ],
   "source": [
    "outsize(W=128 , K= 2 , P=0 , S=2 )"
   ]
  },
  {
   "cell_type": "code",
   "execution_count": null,
   "metadata": {},
   "outputs": [],
   "source": []
  }
 ],
 "metadata": {
  "kernelspec": {
   "display_name": "Python 3 (ipykernel)",
   "language": "python",
   "name": "python3"
  },
  "language_info": {
   "codemirror_mode": {
    "name": "ipython",
    "version": 3
   },
   "file_extension": ".py",
   "mimetype": "text/x-python",
   "name": "python",
   "nbconvert_exporter": "python",
   "pygments_lexer": "ipython3",
   "version": "3.9.7"
  }
 },
 "nbformat": 4,
 "nbformat_minor": 2
}
