{
 "cells": [
  {
   "cell_type": "code",
   "execution_count": 39,
   "metadata": {},
   "outputs": [
    {
     "name": "stdout",
     "output_type": "stream",
     "text": [
      "2.7.0\n"
     ]
    }
   ],
   "source": [
    "import tensorflow as tf\n",
    "from tensorflow import keras\n",
    "from tensorflow.keras.layers import *\n",
    "from tensorflow.keras.models import *\n",
    "from tensorflow.keras import backend as K\n",
    "import pandas as pd\n",
    "from keras.regularizers import l2\n",
    "import numpy as np\n",
    "import matplotlib.pyplot as plt\n",
    "import glob\n",
    "from scipy.stats import pearsonr\n",
    "\n",
    "print(tf.__version__)\n",
    "np.random.seed(422)\n",
    "\n",
    "from sklearn.model_selection import train_test_split\n",
    "from scipy import stats\n",
    "from subprocess import run, check_output\n",
    "import os\n",
    "import random\n",
    "import matplotlib.pyplot as plt\n",
    "import time\n",
    "import seaborn as sns\n",
    "from sklearn.decomposition import PCA\n",
    "from sklearn.model_selection import train_test_split"
   ]
  },
  {
   "cell_type": "code",
   "execution_count": 40,
   "metadata": {},
   "outputs": [],
   "source": [
    "def heteroscedastic_loss(true, pred):\n",
    "    \"\"\" Heteroskedastic loss function.\"\"\"\n",
    "    params = pred.shape[1]//2\n",
    "    point = pred[:, :params]\n",
    "    var = pred[:, params:]\n",
    "    precision = 1 / var\n",
    "    return keras.backend.sum(precision * (true - point) ** 2. + keras.backend.log(var), -1)"
   ]
  },
  {
   "cell_type": "code",
   "execution_count": 41,
   "metadata": {},
   "outputs": [],
   "source": [
    "def create_model(n_params, channels, filters, batchnorm = False, training = True):\n",
    "    \n",
    "    inp = keras.Input(shape=(None, channels))\n",
    "    x = tf.keras.layers.Conv1D(filters[0], kernel_size=1, strides=1, activation='relu')(inp)  \n",
    "    \n",
    "    skipFunc_1 = tf.keras.layers.Conv1D(filters[0], kernel_size=1)(x)\n",
    "    skipFunc_1 = tf.keras.layers.BatchNormalization(axis=2, epsilon=bnEps,momentum=bnMom)(skipFunc_1)\n",
    "  \n",
    "    x = tf.keras.layers.Conv1D(filters[0] , kernel_size=1 , activation='relu')(x)\n",
    "    x = tf.keras.layers.Conv1D(filters[0], kernel_size = 3, strides = 1 , use_bias=False , padding = \"same\")(x)\n",
    "    x = tf.keras.layers.add([x, skipFunc_1])\n",
    "    x = tf.keras.layers.Activation(\"relu\")(x)\n",
    "    \n",
    "    skipFunc_2 = tf.keras.layers.Conv1D(filters[0], kernel_size=1)(x)\n",
    "    skipFunc_2 = tf.keras.layers.BatchNormalization(axis=2, epsilon=bnEps,momentum=bnMom)(skipFunc_2)\n",
    "    \n",
    "    x = tf.keras.layers.Conv1D(filters[0] , kernel_size=1 , activation='relu')(x)\n",
    "    x = tf.keras.layers.Conv1D(filters[0], kernel_size = 3, strides = 1 , use_bias=False,padding = \"same\")(x)\n",
    "    x = tf.keras.layers.add([x, skipFunc_2])\n",
    "    x = tf.keras.layers.Activation(\"relu\")(x)\n",
    "   \n",
    "    skipFunc_3 = tf.keras.layers.Conv1D(filters[1], kernel_size=1)(x)\n",
    "    skipFunc_3 = tf.keras.layers.BatchNormalization(axis=2, epsilon=bnEps,momentum=bnMom)(skipFunc_3)\n",
    "    \n",
    "    x = tf.keras.layers.Conv1D(filters[1] , kernel_size=1, activation='relu')(x)\n",
    "    x = tf.keras.layers.Conv1D(filters[1], kernel_size = 3, strides = 1 , use_bias=False,padding = \"same\")(x)\n",
    "    x = tf.keras.layers.add([x, skipFunc_3])\n",
    "    x = tf.keras.layers.Activation(\"relu\")(x)\n",
    "\n",
    "    skipFunc_4 = tf.keras.layers.Conv1D(filters[1], kernel_size=1)(x)\n",
    "    skipFunc_4 = tf.keras.layers.BatchNormalization(axis=2, epsilon=bnEps,momentum=bnMom)(skipFunc_4)\n",
    "    \n",
    "    x = tf.keras.layers.Conv1D(filters[1] , kernel_size=1 , activation='relu')(x)\n",
    "    x = tf.keras.layers.Conv1D(filters[1], kernel_size = 3, strides = 1 , use_bias=False,padding = \"same\")(x)\n",
    "    x = tf.keras.layers.add([x, skipFunc_4])\n",
    "    x = tf.keras.layers.Activation(\"relu\")(x)\n",
    "     \n",
    "    x = keras.layers.GlobalAveragePooling1D()(x)\n",
    "    \n",
    "    dens1 = keras.layers.Dense(250, activation='relu')(x)\n",
    "    dens2 = keras.layers.Dense(100, activation='relu')(dens1)\n",
    "    dens3 = keras.layers.Dense(50, activation='relu')(dens2)\n",
    "\n",
    "    mean = keras.layers.Dense(n_params)(dens3)\n",
    "    var = keras.layers.Dense(n_params, activation='softplus')(x)\n",
    "    out = keras.layers.Concatenate()([mean, var])\n",
    "    model = keras.Model(inp, out)\n",
    "    return model"
   ]
  },
  {
   "cell_type": "code",
   "execution_count": 43,
   "metadata": {},
   "outputs": [],
   "source": [
    "def plot_analytic_vs_est(true, pred, names ,log=True, plot_abline=True,show=True,filename='figure.png',path=None):\n",
    "    \"\"\"Create a 3x2 plot as in paper.\"\"\"\n",
    "    \n",
    "    def abline(slope, intercept, ax):\n",
    "        x = np.array(ax.get_xlim())\n",
    "        y = intercept + slope * x\n",
    "        return x, y \n",
    "    \n",
    "    font = {'fontname':'Arial', 'fontsize': 16}\n",
    "    textfont = {'fontname':'Arial', 'fontsize': 11}\n",
    "    axisfont = {'fontname':'Arial', 'fontsize': 12}\n",
    "    \n",
    "\n",
    "    f, axarr = plt.subplots(2, 3, figsize=(10, 12))\n",
    "    \n",
    "    print(axarr.flat)\n",
    "    for i, ax in enumerate(axarr.flat):\n",
    "        \n",
    "       \n",
    "        if i == (pred.shape[1]//2):\n",
    "            print(i)\n",
    "            break\n",
    "\n",
    "        ax.plot(true[:,i], pred[:,i],marker='o', linewidth=0,alpha=0.1,color='red')\n",
    "\n",
    "        cor = np.round(np.corrcoef(true[:,i],pred[:,i])[0,1],2)\n",
    "        r_squared = np.round(1 -(np.var(true[:,i] - pred[:,i])/np.var(true[:,i])),2)\n",
    "       \n",
    "        ax.text(0.2,0.9,'r: ' + str(cor),ha='center', va='center', transform=ax.transAxes,**textfont)\n",
    "        ax.text(0.2,0.8,'R2: ' + str(r_squared),ha='center', va='center', transform=ax.transAxes,**textfont)\n",
    "        \n",
    "        if plot_abline:\n",
    "            ax.plot(*abline(1, 0, ax),color='black')\n",
    "        else:\n",
    "            ax.plot(*best_line_fit(true[:,i], pred[:,i]))\n",
    "        if i == 0:\n",
    "            ax.set_xlabel('True',**axisfont)\n",
    "            ax.set_ylabel('Estimated',**axisfont)\n",
    "            \n",
    "        ax.set_title(names[i],**font)\n",
    "        \n",
    "        ax.yaxis.set_ticks_position('left')\n",
    "        ax.xaxis.set_ticks_position('bottom')\n",
    "        \n",
    "    plt.savefig(filename) \n",
    "    if show:\n",
    "        plt.show()\n",
    "        \n",
    "    return None"
   ]
  },
  {
   "cell_type": "markdown",
   "metadata": {},
   "source": [
    "## Defining the structure of the network"
   ]
  },
  {
   "cell_type": "code",
   "execution_count": 44,
   "metadata": {},
   "outputs": [],
   "source": [
    "paramnames = ['a', 'v', 'zr','t0','T_inf']\n",
    "\n",
    "# how deep should the model be:\n",
    "filters = [64,128,128,512]\n",
    "\n",
    "# number of channels:\n",
    "nchannels = 1\n",
    "\n",
    "# optimizer:\n",
    "optimizer = 'RMSprop'\n",
    "\n",
    "\n",
    "#\n",
    "bnEps = 2e-5\n",
    "bnMom = 0.9\n",
    "reg = 0.0001\n",
    "\n",
    "# Batch size:\n",
    "batchsize = 128\n",
    "\n",
    "checkpoint_path = \"trained_CB_model_resnet_clean.hdf5\""
   ]
  },
  {
   "cell_type": "code",
   "execution_count": 45,
   "metadata": {},
   "outputs": [
    {
     "name": "stdout",
     "output_type": "stream",
     "text": [
      "Model: \"model\"\n",
      "__________________________________________________________________________________________________\n",
      " Layer (type)                   Output Shape         Param #     Connected to                     \n",
      "==================================================================================================\n",
      " input_1 (InputLayer)           [(None, None, 1)]    0           []                               \n",
      "                                                                                                  \n",
      " conv1d (Conv1D)                (None, None, 64)     128         ['input_1[0][0]']                \n",
      "                                                                                                  \n",
      " conv1d_2 (Conv1D)              (None, None, 64)     4160        ['conv1d[0][0]']                 \n",
      "                                                                                                  \n",
      " conv1d_1 (Conv1D)              (None, None, 64)     4160        ['conv1d[0][0]']                 \n",
      "                                                                                                  \n",
      " conv1d_3 (Conv1D)              (None, None, 64)     12288       ['conv1d_2[0][0]']               \n",
      "                                                                                                  \n",
      " batch_normalization (BatchNorm  (None, None, 64)    256         ['conv1d_1[0][0]']               \n",
      " alization)                                                                                       \n",
      "                                                                                                  \n",
      " add (Add)                      (None, None, 64)     0           ['conv1d_3[0][0]',               \n",
      "                                                                  'batch_normalization[0][0]']    \n",
      "                                                                                                  \n",
      " activation (Activation)        (None, None, 64)     0           ['add[0][0]']                    \n",
      "                                                                                                  \n",
      " conv1d_5 (Conv1D)              (None, None, 64)     4160        ['activation[0][0]']             \n",
      "                                                                                                  \n",
      " conv1d_4 (Conv1D)              (None, None, 64)     4160        ['activation[0][0]']             \n",
      "                                                                                                  \n",
      " conv1d_6 (Conv1D)              (None, None, 64)     12288       ['conv1d_5[0][0]']               \n",
      "                                                                                                  \n",
      " batch_normalization_1 (BatchNo  (None, None, 64)    256         ['conv1d_4[0][0]']               \n",
      " rmalization)                                                                                     \n",
      "                                                                                                  \n",
      " add_1 (Add)                    (None, None, 64)     0           ['conv1d_6[0][0]',               \n",
      "                                                                  'batch_normalization_1[0][0]']  \n",
      "                                                                                                  \n",
      " activation_1 (Activation)      (None, None, 64)     0           ['add_1[0][0]']                  \n",
      "                                                                                                  \n",
      " conv1d_8 (Conv1D)              (None, None, 128)    8320        ['activation_1[0][0]']           \n",
      "                                                                                                  \n",
      " conv1d_7 (Conv1D)              (None, None, 128)    8320        ['activation_1[0][0]']           \n",
      "                                                                                                  \n",
      " conv1d_9 (Conv1D)              (None, None, 128)    49152       ['conv1d_8[0][0]']               \n",
      "                                                                                                  \n",
      " batch_normalization_2 (BatchNo  (None, None, 128)   512         ['conv1d_7[0][0]']               \n",
      " rmalization)                                                                                     \n",
      "                                                                                                  \n",
      " add_2 (Add)                    (None, None, 128)    0           ['conv1d_9[0][0]',               \n",
      "                                                                  'batch_normalization_2[0][0]']  \n",
      "                                                                                                  \n",
      " activation_2 (Activation)      (None, None, 128)    0           ['add_2[0][0]']                  \n",
      "                                                                                                  \n",
      " conv1d_11 (Conv1D)             (None, None, 128)    16512       ['activation_2[0][0]']           \n",
      "                                                                                                  \n",
      " conv1d_10 (Conv1D)             (None, None, 128)    16512       ['activation_2[0][0]']           \n",
      "                                                                                                  \n",
      " conv1d_12 (Conv1D)             (None, None, 128)    49152       ['conv1d_11[0][0]']              \n",
      "                                                                                                  \n",
      " batch_normalization_3 (BatchNo  (None, None, 128)   512         ['conv1d_10[0][0]']              \n",
      " rmalization)                                                                                     \n",
      "                                                                                                  \n",
      " add_3 (Add)                    (None, None, 128)    0           ['conv1d_12[0][0]',              \n",
      "                                                                  'batch_normalization_3[0][0]']  \n",
      "                                                                                                  \n",
      " activation_3 (Activation)      (None, None, 128)    0           ['add_3[0][0]']                  \n",
      "                                                                                                  \n",
      " global_average_pooling1d (Glob  (None, 128)         0           ['activation_3[0][0]']           \n",
      " alAveragePooling1D)                                                                              \n",
      "                                                                                                  \n",
      " dense (Dense)                  (None, 250)          32250       ['global_average_pooling1d[0][0]'\n",
      "                                                                 ]                                \n",
      "                                                                                                  \n",
      " dense_1 (Dense)                (None, 100)          25100       ['dense[0][0]']                  \n",
      "                                                                                                  \n",
      " dense_2 (Dense)                (None, 50)           5050        ['dense_1[0][0]']                \n",
      "                                                                                                  \n",
      " dense_3 (Dense)                (None, 5)            255         ['dense_2[0][0]']                \n",
      "                                                                                                  \n",
      " dense_4 (Dense)                (None, 5)            645         ['global_average_pooling1d[0][0]'\n",
      "                                                                 ]                                \n",
      "                                                                                                  \n",
      " concatenate (Concatenate)      (None, 10)           0           ['dense_3[0][0]',                \n",
      "                                                                  'dense_4[0][0]']                \n",
      "                                                                                                  \n",
      "==================================================================================================\n",
      "Total params: 254,148\n",
      "Trainable params: 253,380\n",
      "Non-trainable params: 768\n",
      "__________________________________________________________________________________________________\n"
     ]
    }
   ],
   "source": [
    "keras.backend.clear_session()\n",
    "Resnet = create_model(n_params=len(paramnames),channels=nchannels,filters=filters)\n",
    "Resnet.compile(optimizer=optimizer, loss=heteroscedastic_loss\n",
    ")\n",
    "earlystopper = keras.callbacks.EarlyStopping(monitor='val_loss', patience=2, verbose=1)\n",
    "checkpointer = keras.callbacks.ModelCheckpoint(checkpoint_path,save_best_only=True,verbose=1)\n",
    "Resnet.summary()"
   ]
  },
  {
   "cell_type": "markdown",
   "metadata": {},
   "source": [
    "## Loading training data"
   ]
  },
  {
   "cell_type": "code",
   "execution_count": 46,
   "metadata": {},
   "outputs": [],
   "source": [
    "n_file = 200\n",
    "X = np.empty((n_file*200, 240))\n",
    "y = np.empty((n_file*200, 5))\n",
    "\n",
    "for i in range(n_file):\n",
    "    x_temp = np.load('Data_Generation/CB_DataSet/X_train' + str(i) + '.npy')\n",
    "    X[i*200:(i+1)*200, :] = x_temp\n",
    "    \n",
    "\n",
    "for i in range(n_file):\n",
    "    y_temp = np.load('Data_Generation/CB_DataSet/y_train' + str(i) + '.npy')\n",
    "    y[i*200:(i+1)*200, :] = y_temp\n",
    "    \n",
    "    \n"
   ]
  },
  {
   "cell_type": "code",
   "execution_count": 47,
   "metadata": {},
   "outputs": [
    {
     "data": {
      "text/plain": [
       "((40000, 240), (40000, 5))"
      ]
     },
     "execution_count": 47,
     "metadata": {},
     "output_type": "execute_result"
    }
   ],
   "source": [
    "X.shape , y.shape"
   ]
  },
  {
   "cell_type": "code",
   "execution_count": 48,
   "metadata": {},
   "outputs": [],
   "source": [
    "X_train, X_test, y_train, y_test = train_test_split(X, y, test_size=0.005, random_state=0)"
   ]
  },
  {
   "cell_type": "code",
   "execution_count": 49,
   "metadata": {},
   "outputs": [
    {
     "name": "stdout",
     "output_type": "stream",
     "text": [
      "(39800, 240)\n",
      "(200, 240)\n",
      "(39800, 5)\n",
      "(200, 5)\n"
     ]
    }
   ],
   "source": [
    "def get_shape(data):\n",
    "    print(data.shape)\n",
    "\n",
    "for d in [X_train, X_test, y_train, y_test]:\n",
    "    get_shape(d)"
   ]
  },
  {
   "cell_type": "markdown",
   "metadata": {},
   "source": [
    "## Apply PCA "
   ]
  },
  {
   "cell_type": "code",
   "execution_count": 205,
   "metadata": {},
   "outputs": [],
   "source": [
    "pca_1 = PCA(n_components=0.95)\n",
    "pca_2 = PCA(n_components=0.8)\n",
    "pca_3 = PCA(n_components=0.5)"
   ]
  },
  {
   "cell_type": "code",
   "execution_count": 206,
   "metadata": {},
   "outputs": [],
   "source": [
    "X_train = pca_1.fit_transform(X_train)\n",
    "X_test = pca_1.fit_transform(X_test)"
   ]
  },
  {
   "cell_type": "code",
   "execution_count": 207,
   "metadata": {},
   "outputs": [
    {
     "name": "stdout",
     "output_type": "stream",
     "text": [
      "(27860, 159)\n",
      "(140, 27)\n"
     ]
    }
   ],
   "source": [
    "for d in [X_train,X_test]:\n",
    "    get_shape(d)"
   ]
  },
  {
   "cell_type": "markdown",
   "metadata": {},
   "source": [
    "## Training the network"
   ]
  },
  {
   "cell_type": "code",
   "execution_count": 50,
   "metadata": {
    "scrolled": true
   },
   "outputs": [
    {
     "name": "stdout",
     "output_type": "stream",
     "text": [
      "Epoch 1/20\n",
      "280/280 [==============================] - ETA: 0s - loss: 3.2491\n",
      "Epoch 00001: val_loss improved from inf to 0.69561, saving model to trained_CB_model_resnet_clean.hdf5\n",
      "280/280 [==============================] - 116s 408ms/step - loss: 3.2491 - val_loss: 0.6956\n",
      "Epoch 2/20\n",
      "280/280 [==============================] - ETA: 0s - loss: 0.6450\n",
      "Epoch 00002: val_loss improved from 0.69561 to -0.06902, saving model to trained_CB_model_resnet_clean.hdf5\n",
      "280/280 [==============================] - 114s 408ms/step - loss: 0.6450 - val_loss: -0.0690\n",
      "Epoch 3/20\n",
      "280/280 [==============================] - ETA: 0s - loss: 2.7248\n",
      "Epoch 00003: val_loss improved from -0.06902 to -0.87987, saving model to trained_CB_model_resnet_clean.hdf5\n",
      "280/280 [==============================] - 115s 410ms/step - loss: 2.7248 - val_loss: -0.8799\n",
      "Epoch 4/20\n",
      "280/280 [==============================] - ETA: 0s - loss: -0.6908\n",
      "Epoch 00004: val_loss did not improve from -0.87987\n",
      "280/280 [==============================] - 126s 451ms/step - loss: -0.6908 - val_loss: -0.8108\n",
      "Epoch 5/20\n",
      "280/280 [==============================] - ETA: 0s - loss: 4.5694\n",
      "Epoch 00005: val_loss improved from -0.87987 to -0.98008, saving model to trained_CB_model_resnet_clean.hdf5\n",
      "280/280 [==============================] - 177s 632ms/step - loss: 4.5694 - val_loss: -0.9801\n",
      "Epoch 6/20\n",
      "280/280 [==============================] - ETA: 0s - loss: -1.3554\n",
      "Epoch 00006: val_loss improved from -0.98008 to -1.38083, saving model to trained_CB_model_resnet_clean.hdf5\n",
      "280/280 [==============================] - 180s 642ms/step - loss: -1.3554 - val_loss: -1.3808\n",
      "Epoch 7/20\n",
      "280/280 [==============================] - ETA: 0s - loss: -1.6820\n",
      "Epoch 00007: val_loss improved from -1.38083 to -1.94033, saving model to trained_CB_model_resnet_clean.hdf5\n",
      "280/280 [==============================] - 176s 629ms/step - loss: -1.6820 - val_loss: -1.9403\n",
      "Epoch 8/20\n",
      "280/280 [==============================] - ETA: 0s - loss: -1.8598\n",
      "Epoch 00008: val_loss did not improve from -1.94033\n",
      "280/280 [==============================] - 178s 637ms/step - loss: -1.8598 - val_loss: -1.6796\n",
      "Epoch 9/20\n",
      "280/280 [==============================] - ETA: 0s - loss: -2.0699\n",
      "Epoch 00009: val_loss improved from -1.94033 to -2.40676, saving model to trained_CB_model_resnet_clean.hdf5\n",
      "280/280 [==============================] - 180s 642ms/step - loss: -2.0699 - val_loss: -2.4068\n",
      "Epoch 10/20\n",
      "280/280 [==============================] - ETA: 0s - loss: -2.2737\n",
      "Epoch 00010: val_loss did not improve from -2.40676\n",
      "280/280 [==============================] - 176s 628ms/step - loss: -2.2737 - val_loss: -1.7226\n",
      "Epoch 11/20\n",
      "280/280 [==============================] - ETA: 0s - loss: -2.3728\n",
      "Epoch 00011: val_loss improved from -2.40676 to -2.54315, saving model to trained_CB_model_resnet_clean.hdf5\n",
      "280/280 [==============================] - 179s 639ms/step - loss: -2.3728 - val_loss: -2.5432\n",
      "Epoch 12/20\n",
      "280/280 [==============================] - ETA: 0s - loss: -2.5506\n",
      "Epoch 00012: val_loss did not improve from -2.54315\n",
      "280/280 [==============================] - 150s 537ms/step - loss: -2.5506 - val_loss: -1.8648\n",
      "Epoch 13/20\n",
      "280/280 [==============================] - ETA: 0s - loss: -2.6881\n",
      "Epoch 00013: val_loss did not improve from -2.54315\n",
      "280/280 [==============================] - 148s 529ms/step - loss: -2.6881 - val_loss: -2.5049\n",
      "Epoch 14/20\n",
      "280/280 [==============================] - ETA: 0s - loss: -2.7241\n",
      "Epoch 00014: val_loss improved from -2.54315 to -2.62579, saving model to trained_CB_model_resnet_clean.hdf5\n",
      "280/280 [==============================] - 174s 620ms/step - loss: -2.7241 - val_loss: -2.6258\n",
      "Epoch 15/20\n",
      "280/280 [==============================] - ETA: 0s - loss: -2.8167\n",
      "Epoch 00015: val_loss improved from -2.62579 to -2.77925, saving model to trained_CB_model_resnet_clean.hdf5\n",
      "280/280 [==============================] - 172s 616ms/step - loss: -2.8167 - val_loss: -2.7792\n",
      "Epoch 16/20\n",
      "280/280 [==============================] - ETA: 0s - loss: -2.9257\n",
      "Epoch 00016: val_loss improved from -2.77925 to -2.97910, saving model to trained_CB_model_resnet_clean.hdf5\n",
      "280/280 [==============================] - 171s 610ms/step - loss: -2.9257 - val_loss: -2.9791\n",
      "Epoch 17/20\n",
      "280/280 [==============================] - ETA: 0s - loss: -2.9409\n",
      "Epoch 00017: val_loss did not improve from -2.97910\n",
      "280/280 [==============================] - 169s 605ms/step - loss: -2.9409 - val_loss: -2.0617\n",
      "Epoch 18/20\n",
      "280/280 [==============================] - ETA: 0s - loss: -3.0877\n",
      "Epoch 00018: val_loss did not improve from -2.97910\n",
      "280/280 [==============================] - 171s 612ms/step - loss: -3.0877 - val_loss: -2.7455\n",
      "Epoch 19/20\n",
      "280/280 [==============================] - ETA: 0s - loss: -3.0314\n",
      "Epoch 00019: val_loss did not improve from -2.97910\n",
      "280/280 [==============================] - 170s 608ms/step - loss: -3.0314 - val_loss: -2.5211\n",
      "Epoch 20/20\n",
      "280/280 [==============================] - ETA: 0s - loss: -3.2066\n",
      "Epoch 00020: val_loss improved from -2.97910 to -3.32492, saving model to trained_CB_model_resnet_clean.hdf5\n",
      "280/280 [==============================] - 175s 625ms/step - loss: -3.2066 - val_loss: -3.3249\n"
     ]
    }
   ],
   "source": [
    "history = Resnet.fit(X_train, \n",
    "                    y_train, \n",
    "                    batch_size=batchsize,\n",
    "                    epochs=20,  \n",
    "                    validation_split=0.1,\n",
    "                    callbacks=[checkpointer])\n",
    "    "
   ]
  },
  {
   "cell_type": "code",
   "execution_count": 51,
   "metadata": {},
   "outputs": [
    {
     "name": "stdout",
     "output_type": "stream",
     "text": [
      "<numpy.flatiter object at 0x0000019DE53BAA80>\n",
      "5\n"
     ]
    },
    {
     "data": {
      "image/png": "[encoded data removed]",
      "text/plain": [
       "<Figure size 720x864 with 6 Axes>"
      ]
     },
     "metadata": {
      "needs_background": "light"
     },
     "output_type": "display_data"
    }
   ],
   "source": [
    "pred = Resnet.predict(X_test)\n",
    "plot_analytic_vs_est(y_test,\n",
    "                     pred,\n",
    "                     log=True,\n",
    "                     names=paramnames,\n",
    "                     show=True,\n",
    "                     filename='result/ResnetCBD.png')\n"
   ]
  },
  {
   "cell_type": "code",
   "execution_count": null,
   "metadata": {},
   "outputs": [],
   "source": [
    "# plot_analytic_vs_est(y,\n",
    "#                      pred,\n",
    "#                      log=True,\n",
    "#                      names=paramnames,\n",
    "#                      show=True,\n",
    "#                      filename='_plot/ResnetCBD.png')\n"
   ]
  },
  {
   "cell_type": "markdown",
   "metadata": {},
   "source": [
    "## Fitting the Levy Flights model on data"
   ]
  },
  {
   "cell_type": "code",
   "execution_count": null,
   "metadata": {},
   "outputs": [],
   "source": [
    "Data_dirs = [\"../_GroupsData/_Trial/_Optim/\",\n",
    "             \"../_GroupsData/_Trial/_Norm/\",\n",
    "             \"../_GroupsData/_Trial/_Info/\"]\n",
    "\n",
    "trial_sbj_prms = []\n",
    "trial_ACC_list = []\n",
    "for i in range(3):\n",
    "    files = os.listdir(Data_dirs[i])\n",
    "    for j in range(len(files)):\n",
    "        if files[j].endswith(\".txt\"):\n",
    "            with open(Data_dirs[i] + files[j], 'r') as f:\n",
    "                 \n",
    "                S = np.empty((1, 240, 4))\n",
    "                ACC = []\n",
    "                \n",
    "                f.readline()\n",
    "                f.readline()\n",
    "                line = f.readline()\n",
    "                cor_count = 0\n",
    "                line_count = 1\n",
    "                for block in range(4):\n",
    "                    rtl = []\n",
    "                    rtu = []\n",
    "                    for l in range(240):\n",
    "                        s_line = line[:-1].split('\\t')\n",
    "                        trial = int(s_line[1])\n",
    "                        acc = int(s_line[7])\n",
    "                        RT = int(s_line[10])\n",
    "                        if RT>0.3:\n",
    "                            if acc == 1:\n",
    "                                rtu.append(RT/1000)\n",
    "                            else:\n",
    "                                rtl.append(-RT/1000)\n",
    "                        line_count += 1\n",
    "                        line = f.readline()\n",
    "                    S[0, :, block] = np.asarray(rtu+rtl)\n",
    "                    ACC.append(len(rtu)/240)\n",
    "                pred = deepInference.predict(S)\n",
    "                trial_sbj_prms.append(list(pred[0][0:11]) + ACC)\n",
    "                trial_ACC_list += ACC \n",
    "\n",
    "                "
   ]
  },
  {
   "cell_type": "markdown",
   "metadata": {},
   "source": [
    "# Plotting the fitting results"
   ]
  },
  {
   "cell_type": "markdown",
   "metadata": {},
   "source": [
    "### Low Information Condition"
   ]
  },
  {
   "cell_type": "code",
   "execution_count": null,
   "metadata": {},
   "outputs": [],
   "source": [
    "plt.figure(figsize=(10,10))\n",
    "plt.plot(trial_sbj_prms[10][0:4]);\n",
    "plt.plot(trial_sbj_prms[11][0:4]);\n",
    "plt.plot(trial_sbj_prms[12][0:4]);\n",
    "plt.plot(trial_sbj_prms[13][0:4]);\n",
    "plt.plot(trial_sbj_prms[14][0:4]);\n",
    "plt.plot(trial_sbj_prms[15][0:4]);\n",
    "plt.plot(trial_sbj_prms[16][0:4]);\n",
    "plt.plot(trial_sbj_prms[17][0:4]);\n",
    "plt.plot(trial_sbj_prms[18][0:4]);\n",
    "plt.plot(trial_sbj_prms[19][0:4]);\n",
    "plt.plot(['1', '2', '3', '4'], trial_sbj_prms[20][0:4]);\n",
    "plt.xlabel('blocks', fontsize=15);\n",
    "plt.ylabel('threshold value', fontsize=15);\n",
    "plt.title('Trends of threshold during the blocks in Low Information condition', fontsize=15);\n",
    "plt.savefig('_plot/_norm_trial_ind_thr.png');"
   ]
  },
  {
   "cell_type": "code",
   "execution_count": null,
   "metadata": {},
   "outputs": [],
   "source": [
    "plt.figure(figsize=(10,10))\n",
    "plt.plot(trial_sbj_prms[10][7:11]);\n",
    "plt.plot(trial_sbj_prms[11][7:11]);\n",
    "plt.plot(trial_sbj_prms[12][7:11]);\n",
    "plt.plot(trial_sbj_prms[13][7:11]);\n",
    "plt.plot(trial_sbj_prms[14][7:11]);\n",
    "plt.plot(trial_sbj_prms[15][7:11]);\n",
    "plt.plot(trial_sbj_prms[16][7:11]);\n",
    "plt.plot(trial_sbj_prms[17][7:11]);\n",
    "plt.plot(trial_sbj_prms[18][7:11]);\n",
    "plt.plot(trial_sbj_prms[19][7:11]);\n",
    "plt.plot(['1', '2', '3', '4'], trial_sbj_prms[20][7:11]);\n",
    "plt.xlabel('blocks', fontsize=15);\n",
    "plt.ylabel('alpha value', fontsize=15);\n",
    "plt.title('Trends of alpha during the blocks in Low Information condition', fontsize=15);\n",
    "plt.savefig('_plot/_norm_trial_ind_alpha.png');"
   ]
  },
  {
   "cell_type": "code",
   "execution_count": null,
   "metadata": {},
   "outputs": [],
   "source": [
    "ll = []\n",
    "for i in range(10,21):\n",
    "    ll.append(trial_sbj_prms[i][0:4])\n",
    "g1 = {'1': [ll[i][0] for i in range(len(ll))],\n",
    "      '2': [ll[i][1] for i in range(len(ll))],\n",
    "      '3': [ll[i][2] for i in range(len(ll))],\n",
    "      '4': [ll[i][3] for i in range(len(ll))]}\n",
    "df1 = pd.DataFrame(g1)\n",
    "plt.figure(figsize=(10,10))\n",
    "df1.boxplot(column=['1', '2', '3', '4'], grid=False);\n",
    "plt.xlabel('blocks', fontsize=15);\n",
    "plt.ylabel('threshold value', fontsize=15);\n",
    "plt.title('Trends of threshold during the blocks in Low Information condition', fontsize=15);\n",
    "plt.savefig('_plot/_norm_trial_group_thr.png');"
   ]
  },
  {
   "cell_type": "code",
   "execution_count": null,
   "metadata": {},
   "outputs": [],
   "source": [
    "ll = []\n",
    "for i in range(10, 21):\n",
    "    ll.append(trial_sbj_prms[i][7:11])\n",
    "g1 = {'1': [ll[i][0] for i in range(len(ll))],\n",
    "      '2': [ll[i][1] for i in range(len(ll))],\n",
    "      '3': [ll[i][2] for i in range(len(ll))],\n",
    "      '4': [ll[i][3] for i in range(len(ll))]}\n",
    "df1 = pd.DataFrame(g1)\n",
    "\n",
    "plt.figure(figsize=(10,10))\n",
    "df1.boxplot(column=['1', '2', '3', '4'], grid=False);\n",
    "plt.xlabel('blocks', fontsize=15);\n",
    "plt.ylabel('alpha value', fontsize=15);\n",
    "plt.title('Trends of alpha during the blocks in Low Information condition', fontsize=15);\n",
    "plt.savefig('_plot/_norm_trial_group_alpha.png');"
   ]
  },
  {
   "cell_type": "code",
   "execution_count": null,
   "metadata": {},
   "outputs": [],
   "source": [
    "alpha_list = []\n",
    "thr_list = []\n",
    "for i in range(10, 21):\n",
    "    alpha_list += list(trial_sbj_prms[i][7:11])\n",
    "    thr_list += list(trial_sbj_prms[i][0:4])\n",
    "\n",
    "plt.figure(figsize=(10,10))\n",
    "sns.regplot(alpha_list , thr_list);\n",
    "\n",
    "plt.xlabel('alpha', fontsize=15);\n",
    "plt.ylabel('threshold', fontsize=15);\n",
    "plt.title('Correlation of threshold and alpha in Low Information condition', fontsize=15);\n",
    "\n",
    "cor, p_value = pearsonr(alpha_list , thr_list)\n",
    "textstr = 'correlation = ' + str(cor)[0:5] + '\\np-value = '+str(p_value)[0:5]\n",
    "props = dict(boxstyle='round', facecolor='wheat', alpha=0.5)\n",
    "plt.text((plt.xlim()[1] - plt.xlim()[0])*0.04 + plt.xlim()[0],\n",
    "         (plt.ylim()[1] - plt.ylim()[0])*0.92 + plt.ylim()[0], textstr, fontsize=14, bbox=props)\n",
    "plt.savefig('_plot/_norm_trial_thr_alpha_cor.png');"
   ]
  },
  {
   "cell_type": "code",
   "execution_count": null,
   "metadata": {},
   "outputs": [],
   "source": [
    "alpha_list = []\n",
    "acc_list = []\n",
    "for i in range(10, 21):\n",
    "    alpha_list += list(trial_sbj_prms[i][7:11])\n",
    "    acc_list += list(trial_sbj_prms[i][11:15])\n",
    "\n",
    "plt.figure(figsize=(10,10))\n",
    "sns.regplot(alpha_list , acc_list);\n",
    "\n",
    "plt.xlabel('alpha', fontsize=15);\n",
    "plt.ylabel('ACC', fontsize=15);\n",
    "plt.title('Correlation of ACC and alpha in Low Information conditions', fontsize=15);\n",
    "\n",
    "cor, p_value = pearsonr(alpha_list , acc_list)\n",
    "textstr = 'correlation = ' + str(cor)[0:5] + '\\np-value = '+str(p_value)[0:5]\n",
    "props = dict(boxstyle='round', facecolor='wheat', alpha=0.5)\n",
    "plt.text((plt.xlim()[1] - plt.xlim()[0])*0.04 + plt.xlim()[0],\n",
    "         (plt.ylim()[1] - plt.ylim()[0])*0.92 + plt.ylim()[0], textstr, fontsize=14, bbox=props)\n",
    "\n",
    "plt.savefig('_plot/_norm_trial_acc_alpha_cor.png');\n",
    "print(\"correlation is : \", cor, 'and p-value is : ', p_value)"
   ]
  },
  {
   "cell_type": "markdown",
   "metadata": {},
   "source": [
    "### Medium Information Condition"
   ]
  },
  {
   "cell_type": "code",
   "execution_count": null,
   "metadata": {},
   "outputs": [],
   "source": [
    "plt.figure(figsize=(10,10))\n",
    "plt.plot(trial_sbj_prms[21][0:4]);\n",
    "plt.plot(trial_sbj_prms[22][0:4]);\n",
    "plt.plot(trial_sbj_prms[23][0:4]);\n",
    "plt.plot(trial_sbj_prms[24][0:4]);\n",
    "plt.plot(trial_sbj_prms[25][0:4]);\n",
    "plt.plot(trial_sbj_prms[26][0:4]);\n",
    "plt.plot(trial_sbj_prms[27][0:4]);\n",
    "plt.plot(trial_sbj_prms[28][0:4]);\n",
    "plt.plot(['1', '2', '3', '4'],trial_sbj_prms[29][0:4]);\n",
    "plt.xlabel('blocks', fontsize=15);\n",
    "plt.ylabel('threshold value', fontsize=15);\n",
    "plt.title('Trends of threshold during the blocks in Medium Information condition', fontsize=15);\n",
    "plt.savefig('_plot/_info_trial_ind_thr.png');"
   ]
  },
  {
   "cell_type": "code",
   "execution_count": null,
   "metadata": {},
   "outputs": [],
   "source": [
    "plt.figure(figsize=(10,10))\n",
    "plt.plot(trial_sbj_prms[21][7:11]);\n",
    "plt.plot(trial_sbj_prms[22][7:11]);\n",
    "plt.plot(trial_sbj_prms[23][7:11]);\n",
    "plt.plot(trial_sbj_prms[24][7:11]);\n",
    "plt.plot(trial_sbj_prms[25][7:11]);\n",
    "plt.plot(trial_sbj_prms[26][7:11]);\n",
    "plt.plot(trial_sbj_prms[27][7:11]);\n",
    "plt.plot(trial_sbj_prms[28][7:11]);\n",
    "plt.plot(['1', '2', '3', '4'], trial_sbj_prms[29][7:11]);\n",
    "plt.xlabel('blocks', fontsize=15);\n",
    "plt.ylabel('alpha value', fontsize=15);\n",
    "plt.title('Trends of alpha during the blocks in Medium Information condition', fontsize=15);\n",
    "plt.savefig('_plot/_info_trial_ind_alpha.png');"
   ]
  },
  {
   "cell_type": "code",
   "execution_count": null,
   "metadata": {},
   "outputs": [],
   "source": [
    "ll = []\n",
    "for i in range(21,30):\n",
    "    ll.append(trial_sbj_prms[i][0:4])\n",
    "g1 = {'1': [ll[i][0] for i in range(len(ll))],\n",
    "      '2': [ll[i][1] for i in range(len(ll))],\n",
    "      '3': [ll[i][2] for i in range(len(ll))],\n",
    "      '4': [ll[i][3] for i in range(len(ll))]}\n",
    "df1 = pd.DataFrame(g1)\n",
    "plt.figure(figsize=(10,10))\n",
    "df1.boxplot(column=['1', '2', '3', '4'], grid=False);\n",
    "plt.xlabel('blocks', fontsize=15);\n",
    "plt.ylabel('threshold value', fontsize=15);\n",
    "plt.title('Trends of threshold during the blocks in Medium Information condition', fontsize=15);\n",
    "plt.savefig('_plot/_info_trial_group_thr.png');"
   ]
  },
  {
   "cell_type": "code",
   "execution_count": null,
   "metadata": {},
   "outputs": [],
   "source": [
    "ll = []\n",
    "for i in range(21, 30):\n",
    "    ll.append(trial_sbj_prms[i][7:11])\n",
    "g1 = {'1': [ll[i][0] for i in range(len(ll))],\n",
    "      '2': [ll[i][1] for i in range(len(ll))],\n",
    "      '3': [ll[i][2] for i in range(len(ll))],\n",
    "      '4': [ll[i][3] for i in range(len(ll))]}\n",
    "df1 = pd.DataFrame(g1)\n",
    "plt.figure(figsize=(10,10))\n",
    "df1.boxplot(column=['1', '2', '3', '4'], grid=False);\n",
    "plt.xlabel('blocks', fontsize=15);\n",
    "plt.ylabel('alpha value', fontsize=15);\n",
    "plt.title('Trends of alpha during the blocks in Medium Information condition', fontsize=15);\n",
    "plt.savefig('_plot/_info_trial_group_alpha.png');"
   ]
  },
  {
   "cell_type": "code",
   "execution_count": null,
   "metadata": {},
   "outputs": [],
   "source": [
    "alpha_list = []\n",
    "thr_list = []\n",
    "for i in range(21, 30):\n",
    "    alpha_list += list(trial_sbj_prms[i][7:11])\n",
    "    thr_list += list(trial_sbj_prms[i][0:4])\n",
    "\n",
    "plt.figure(figsize=(10,10))\n",
    "sns.regplot(alpha_list , thr_list);\n",
    "\n",
    "plt.xlabel('alpha', fontsize=15);\n",
    "plt.ylabel('threshold', fontsize=15);\n",
    "plt.title('Correlation of threshold and alpha in Medium Information condition', fontsize=15);\n",
    "\n",
    "cor, p_value = pearsonr(alpha_list , thr_list)\n",
    "textstr = 'correlation = ' + str(cor)[0:5] + '\\np-value = '+str(p_value)[0:5]\n",
    "props = dict(boxstyle='round', facecolor='wheat', alpha=0.5)\n",
    "plt.text((plt.xlim()[1] - plt.xlim()[0])*0.74 + plt.xlim()[0],\n",
    "         (plt.ylim()[1] - plt.ylim()[0])*0.92 + plt.ylim()[0], textstr, fontsize=14, bbox=props)\n",
    "\n",
    "plt.savefig('_plot/_info_trial_thr_alpha_cor.png');\n",
    "print(\"correlation is : \", cor, 'and p-value is : ', p_value)"
   ]
  },
  {
   "cell_type": "code",
   "execution_count": null,
   "metadata": {},
   "outputs": [],
   "source": [
    "alpha_list = []\n",
    "acc_list = []\n",
    "for i in range(21, 30):\n",
    "    alpha_list += list(trial_sbj_prms[i][7:11])\n",
    "    acc_list += list(trial_sbj_prms[i][11:15])\n",
    "\n",
    "plt.figure(figsize=(10,10))\n",
    "sns.regplot(alpha_list , acc_list);\n",
    "\n",
    "plt.xlabel('alpha', fontsize=15);\n",
    "plt.ylabel('ACC', fontsize=15);\n",
    "plt.title('Correlation of ACC and alpha in Medium Information condition', fontsize=15);\n",
    "\n",
    "cor, p_value = pearsonr(alpha_list , acc_list)\n",
    "textstr = 'correlation = ' + str(cor)[0:5] + '\\np-value = '+str(p_value)[0:5]\n",
    "props = dict(boxstyle='round', facecolor='wheat', alpha=0.5)\n",
    "plt.text((plt.xlim()[1] - plt.xlim()[0])*0.04 + plt.xlim()[0],\n",
    "         (plt.ylim()[1] - plt.ylim()[0])*0.92 + plt.ylim()[0], textstr, fontsize=14, bbox=props);\n",
    "\n",
    "plt.savefig('_plot/_info_trial_acc_alpha_cor.png');\n",
    "print(\"correlation is : \", cor, 'and p-value is : ', p_value)"
   ]
  },
  {
   "cell_type": "markdown",
   "metadata": {},
   "source": [
    "### High Information Condition"
   ]
  },
  {
   "cell_type": "code",
   "execution_count": null,
   "metadata": {},
   "outputs": [],
   "source": [
    "plt.figure(figsize=(10,10))   \n",
    "plt.plot(trial_sbj_prms[0][0:4]);\n",
    "plt.plot(trial_sbj_prms[1][0:4]);\n",
    "plt.plot(trial_sbj_prms[2][0:4]);\n",
    "plt.plot(trial_sbj_prms[3][0:4]);\n",
    "plt.plot(trial_sbj_prms[4][0:4]);\n",
    "plt.plot(trial_sbj_prms[5][0:4]);\n",
    "plt.plot(trial_sbj_prms[6][0:4]);\n",
    "plt.plot(trial_sbj_prms[7][0:4]);\n",
    "plt.plot(trial_sbj_prms[8][0:4]);\n",
    "plt.plot(['1', '2', '3', '4'], trial_sbj_prms[9][0:4]);\n",
    "plt.xlabel('blocks', fontsize=15);\n",
    "plt.ylabel('threshold value', fontsize=15);\n",
    "plt.title('Trends of threshold during the blocks in High Information condition', fontsize=15);\n",
    "plt.savefig('_plot/_optim_trial_ind_thr.png');"
   ]
  },
  {
   "cell_type": "code",
   "execution_count": null,
   "metadata": {},
   "outputs": [],
   "source": [
    "plt.figure(figsize=(10,10))\n",
    "plt.plot(trial_sbj_prms[0][7:11]);\n",
    "plt.plot(trial_sbj_prms[1][7:11]);\n",
    "plt.plot(trial_sbj_prms[2][7:11]);\n",
    "plt.plot(trial_sbj_prms[3][7:11]);\n",
    "plt.plot(trial_sbj_prms[4][7:11]);\n",
    "plt.plot(trial_sbj_prms[5][7:11]);\n",
    "plt.plot(trial_sbj_prms[6][7:11]);\n",
    "plt.plot(trial_sbj_prms[7][7:11]);\n",
    "plt.plot(trial_sbj_prms[8][7:11]);\n",
    "plt.plot(['1', '2', '3', '4'], trial_sbj_prms[9][7:11]);\n",
    "plt.xlabel('blocks', fontsize=15);\n",
    "plt.ylabel('alpha value', fontsize=15);\n",
    "plt.title('Trends of alpha during the blocks in High Information condition', fontsize=15);\n",
    "plt.savefig('_plot/_optim_trial_ind_alpha.png');"
   ]
  },
  {
   "cell_type": "code",
   "execution_count": null,
   "metadata": {},
   "outputs": [],
   "source": [
    "ll = []\n",
    "for i in range(10):\n",
    "    ll.append(trial_sbj_prms[i][0:4])\n",
    "g1 = {'1': [ll[i][0] for i in range(len(ll))],\n",
    "      '2': [ll[i][1] for i in range(len(ll))],\n",
    "      '3': [ll[i][2] for i in range(len(ll))],\n",
    "      '4': [ll[i][3] for i in range(len(ll))]}\n",
    "df1 = pd.DataFrame(g1)\n",
    "\n",
    "plt.figure(figsize=(10,10))\n",
    "df1.boxplot(column=['1', '2', '3', '4'], grid=False);\n",
    "plt.xlabel('blocks', fontsize=15);\n",
    "plt.ylabel('threshold value', fontsize=15);\n",
    "plt.title('Trends of threshold during the blocks in High Information condition', fontsize=15);\n",
    "plt.savefig('_plot/_optim_trial_group_thr.png');"
   ]
  },
  {
   "cell_type": "code",
   "execution_count": null,
   "metadata": {},
   "outputs": [],
   "source": [
    "ll = []\n",
    "for i in range(10):\n",
    "    ll.append(trial_sbj_prms[i][7:11])\n",
    "g1 = {'1': [ll[i][0] for i in range(len(ll))],\n",
    "      '2': [ll[i][1] for i in range(len(ll))],\n",
    "      '3': [ll[i][2] for i in range(len(ll))],\n",
    "      '4': [ll[i][3] for i in range(len(ll))]}\n",
    "df1 = pd.DataFrame(g1)\n",
    "\n",
    "plt.figure(figsize=(10,10))\n",
    "df1.boxplot(column=['1', '2', '3', '4'], grid=False);\n",
    "plt.xlabel('blocks', fontsize=15);\n",
    "plt.ylabel('alpha value', fontsize=15);\n",
    "plt.title('Trends of alpha during the blocks in High Information condition', fontsize=15);\n",
    "plt.savefig('_plot/_optim_trial_group_alpha.png');"
   ]
  },
  {
   "cell_type": "code",
   "execution_count": null,
   "metadata": {},
   "outputs": [],
   "source": [
    "alpha_list = []\n",
    "thr_list = []\n",
    "for i in range(10):\n",
    "    alpha_list += list(trial_sbj_prms[i][7:11])\n",
    "    thr_list += list(trial_sbj_prms[i][0:4])\n",
    "\n",
    "plt.figure(figsize=(10,10))\n",
    "sns.regplot(alpha_list , thr_list);\n",
    "\n",
    "plt.xlabel('alpha', fontsize=15);\n",
    "plt.ylabel('threshold', fontsize=15);\n",
    "plt.title('Correlation of threshold and alpha in High Information condition', fontsize=15);\n",
    "\n",
    "cor, p_value = pearsonr(alpha_list , thr_list)\n",
    "textstr = 'correlation = ' + str(cor)[0:5] + '\\n p-value = '+str(p_value)[0:5]\n",
    "props = dict(boxstyle='round', facecolor='wheat', alpha=0.5)\n",
    "plt.text((plt.xlim()[1] - plt.xlim()[0])*0.04 + plt.xlim()[0],\n",
    "         (plt.ylim()[1] - plt.ylim()[0])*0.92 + plt.ylim()[0], textstr, fontsize=14, bbox=props)\n",
    "\n",
    "plt.savefig('_plot/_optim_trial_thr_alpha_cor.png');\n",
    "print(\"correlation is : \", cor, 'and p-value is : ', p_value)"
   ]
  },
  {
   "cell_type": "code",
   "execution_count": null,
   "metadata": {},
   "outputs": [],
   "source": [
    "alpha_list = []\n",
    "acc_list = []\n",
    "for i in range(10):\n",
    "    alpha_list += list(trial_sbj_prms[i][7:11])\n",
    "    acc_list += list(trial_sbj_prms[i][11:15])\n",
    "\n",
    "plt.figure(figsize=(10,10))\n",
    "sns.regplot(alpha_list , acc_list);\n",
    "\n",
    "plt.xlabel('alpha', fontsize=15);\n",
    "plt.ylabel('ACC', fontsize=15);\n",
    "plt.title('Correlation of ACC and alpha in High Information condition', fontsize=15);\n",
    "\n",
    "cor, p_value = pearsonr(alpha_list , acc_list)\n",
    "textstr = 'correlation = ' + str(cor)[0:5] + '\\np-value = '+str(p_value)[0:5]\n",
    "props = dict(boxstyle='round', facecolor='wheat', alpha=0.5)\n",
    "plt.text((plt.xlim()[1] - plt.xlim()[0])*0.04 + plt.xlim()[0],\n",
    "         (plt.ylim()[1] - plt.ylim()[0])*0.92 + plt.ylim()[0], textstr, fontsize=14, bbox=props)\n",
    "\n",
    "plt.savefig('_plot/_optim_trial_acc_alpha_cor.png');\n",
    "print(\"correlation is : \", cor, 'and p-value is : ', p_value)"
   ]
  },
  {
   "cell_type": "markdown",
   "metadata": {},
   "source": [
    "### Integrated Conditions"
   ]
  },
  {
   "cell_type": "code",
   "execution_count": null,
   "metadata": {},
   "outputs": [],
   "source": [
    "alpha_list = []\n",
    "thr_list = []\n",
    "for i in range(30):\n",
    "    alpha_list += list(trial_sbj_prms[i][7:11])\n",
    "    thr_list += list(trial_sbj_prms[i][0:4])\n",
    "\n",
    "plt.figure(figsize=(10,10))\n",
    "sns.regplot(alpha_list , thr_list);\n",
    "\n",
    "plt.xlabel('alpha', fontsize=15);\n",
    "plt.ylabel('threshold', fontsize=15);\n",
    "plt.title('Correlation of threshold and alpha in all conditions', fontsize=15);\n",
    "\n",
    "cor, p_value = pearsonr(alpha_list , thr_list)\n",
    "textstr = 'correlation = ' + str(cor)[0:5] + '\\np-value = '+str(p_value)[0:4] + 'e-06'\n",
    "props = dict(boxstyle='round', facecolor='wheat', alpha=0.5)\n",
    "plt.text((plt.xlim()[1] - plt.xlim()[0])*0.72 + plt.xlim()[0],\n",
    "         (plt.ylim()[1] - plt.ylim()[0])*0.92 + plt.ylim()[0], textstr, fontsize=14, bbox=props)\n",
    "\n",
    "plt.savefig('_plot/_trial_thr_alpha_cor.png');\n",
    "print(\"correlation is : \", cor, 'and p-value is : ', p_value)"
   ]
  },
  {
   "cell_type": "code",
   "execution_count": null,
   "metadata": {},
   "outputs": [],
   "source": [
    "alpha_list = []\n",
    "acc_list = []\n",
    "for i in range(30):\n",
    "    alpha_list += list(trial_sbj_prms[i][7:11])\n",
    "    acc_list += list(trial_sbj_prms[i][11:15])\n",
    "\n",
    "plt.figure(figsize=(10,10))\n",
    "sns.regplot(alpha_list , acc_list);\n",
    "\n",
    "plt.xlabel('alpha', fontsize=15);\n",
    "plt.ylabel('ACC', fontsize=15);\n",
    "plt.title('Correlation of ACC and alpha in all conditions', fontsize=15);\n",
    "\n",
    "cor, p_value = pearsonr(alpha_list , acc_list)\n",
    "textstr = 'correlation = ' + str(cor)[0:5] + '\\np-value = '+str(p_value)[0:5]\n",
    "props = dict(boxstyle='round', facecolor='wheat', alpha=0.5)\n",
    "plt.text((plt.xlim()[1] - plt.xlim()[0])*0.04 + plt.xlim()[0],\n",
    "         (plt.ylim()[1] - plt.ylim()[0])*0.92 + plt.ylim()[0], textstr, fontsize=14, bbox=props);\n",
    "\n",
    "plt.savefig('_plot/_trial_acc_alpha_cor.png');\n",
    "print(\"correlation is : \", cor, 'and p-value is : ', p_value)"
   ]
  },
  {
   "cell_type": "markdown",
   "metadata": {},
   "source": [
    "# Saving the obtained parameters"
   ]
  },
  {
   "cell_type": "code",
   "execution_count": null,
   "metadata": {},
   "outputs": [],
   "source": [
    "LFM_data_dic = {'subj_ind': [ i+1 for i in range(30)],\n",
    "            'a1':[trial_sbj_prms[i][0] for i in range(30)],\n",
    "            'a2':[trial_sbj_prms[i][1] for i in range(30)],\n",
    "            'a3':[trial_sbj_prms[i][2] for i in range(30)],\n",
    "            'a4':[trial_sbj_prms[i][3] for i in range(30)],\n",
    "            'v':[trial_sbj_prms[i][4] for i in range(30)],\n",
    "            'zr':[trial_sbj_prms[i][5] for i in range(30)],\n",
    "            't0':[trial_sbj_prms[i][6] for i in range(30)],\n",
    "            'alpha1':[trial_sbj_prms[i][7] for i in range(30)],\n",
    "            'alpha2':[trial_sbj_prms[i][8] for i in range(30)],\n",
    "            'alpha3':[trial_sbj_prms[i][9] for i in range(30)],\n",
    "            'alpha4':[trial_sbj_prms[i][10] for i in range(30)],\n",
    "            'ACC1':[trial_sbj_prms[i][11] for i in range(30)],\n",
    "            'ACC2':[trial_sbj_prms[i][12] for i in range(30)],\n",
    "            'ACC3':[trial_sbj_prms[i][13] for i in range(30)],\n",
    "            'ACC4':[trial_sbj_prms[i][14] for i in range(30)]}\n",
    "DF_LFM_data = pd.DataFrame(LFM_data_dic)\n",
    "DF_LFM_data.to_csv('LFM_prms.csv')"
   ]
  },
  {
   "cell_type": "code",
   "execution_count": null,
   "metadata": {},
   "outputs": [],
   "source": [
    "if Training:\n",
    "    deepInference.save_weights('weights')"
   ]
  },
  {
   "cell_type": "code",
   "execution_count": null,
   "metadata": {},
   "outputs": [],
   "source": []
  },
  {
   "cell_type": "code",
   "execution_count": null,
   "metadata": {},
   "outputs": [],
   "source": []
  },
  {
   "cell_type": "code",
   "execution_count": null,
   "metadata": {},
   "outputs": [],
   "source": []
  }
 ],
 "metadata": {
  "kernelspec": {
   "display_name": "Python 3 (ipykernel)",
   "language": "python",
   "name": "python3"
  },
  "language_info": {
   "codemirror_mode": {
    "name": "ipython",
    "version": 3
   },
   "file_extension": ".py",
   "mimetype": "text/x-python",
   "name": "python",
   "nbconvert_exporter": "python",
   "pygments_lexer": "ipython3",
   "version": "3.9.7"
  }
 },
 "nbformat": 4,
 "nbformat_minor": 2
}
